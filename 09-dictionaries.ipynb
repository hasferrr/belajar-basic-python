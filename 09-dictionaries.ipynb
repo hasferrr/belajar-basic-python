{
 "cells": [
  {
   "cell_type": "markdown",
   "metadata": {},
   "source": [
    "# Dictionaries\n",
    "\n",
    "Python Collections (Arrays)\n",
    "\n",
    "There are four collection data types in the Python programming language:\n",
    "\n",
    "- **List** is a collection which is ordered and changeable. Allows duplicate members.\n",
    "- **Tuple** is a collection which is ordered and unchangeable. Allows duplicate members.\n",
    "- **Set** is a collection which is unordered, unchangeable**, and unindexed. No duplicate members.\n",
    "- **Dictionary** is a collection which is **ordered** and **changeable**. ***No duplicate*** members.\n",
    "\n",
    "> **Set items are unchangeable, but you can remove and/or add items whenever you like.\n",
    "\n",
    "> **As of Python version 3.7, dictionaries are ordered. In Python 3.6 and earlier, dictionaries are unordered."
   ]
  },
  {
   "cell_type": "code",
   "execution_count": 42,
   "metadata": {},
   "outputs": [
    {
     "name": "stdout",
     "output_type": "stream",
     "text": [
      "3\n",
      "<class 'dict'>\n",
      "{'Name': 'Ayaka', 'Vision': 'Cryo', 'Region': 'Inazuma'}\n"
     ]
    }
   ],
   "source": [
    "character = {\n",
    "    'Name':'Ayaka',\n",
    "    'Vision':'Cryo',\n",
    "    'Region':'Inazuma'\n",
    "}\n",
    "print(len(character))\n",
    "print(type(character))\n",
    "print(character)"
   ]
  },
  {
   "cell_type": "code",
   "execution_count": 43,
   "metadata": {},
   "outputs": [
    {
     "name": "stdout",
     "output_type": "stream",
     "text": [
      "yes\n"
     ]
    }
   ],
   "source": [
    "if 'Vision' in character:\n",
    "    print('yes')"
   ]
  },
  {
   "cell_type": "markdown",
   "metadata": {},
   "source": [
    "## Access Items (access value)\n",
    "\n",
    "Returns the value of the specified key\n",
    "\n",
    "```py\n",
    "mydict = {\n",
    "    'this_is_key' = 'this_is_value',\n",
    "}\n",
    "```\n",
    "\n",
    "use indexing : `the_dictionary['key_name']`"
   ]
  },
  {
   "cell_type": "code",
   "execution_count": 44,
   "metadata": {},
   "outputs": [
    {
     "name": "stdout",
     "output_type": "stream",
     "text": [
      "Ayaka\n",
      "Cryo\n",
      "Inazuma\n"
     ]
    }
   ],
   "source": [
    "name = character['Name']\n",
    "vision = character['Vision']\n",
    "region = character.get('Region')\n",
    "\n",
    "print(name)\n",
    "print(vision)\n",
    "print(region)"
   ]
  },
  {
   "cell_type": "markdown",
   "metadata": {},
   "source": [
    "## Get Keys and Values\n",
    "```py\n",
    "{\n",
    "    'key1'='values1',\n",
    "    'key2'='values2',\n",
    "}\n",
    "```"
   ]
  },
  {
   "cell_type": "code",
   "execution_count": 45,
   "metadata": {},
   "outputs": [
    {
     "name": "stdout",
     "output_type": "stream",
     "text": [
      "dict_keys(['Name', 'Vision', 'Region'])\n"
     ]
    }
   ],
   "source": [
    "print(character.keys())"
   ]
  },
  {
   "cell_type": "code",
   "execution_count": 46,
   "metadata": {},
   "outputs": [
    {
     "name": "stdout",
     "output_type": "stream",
     "text": [
      "dict_values(['Ayaka', 'Cryo', 'Inazuma'])\n"
     ]
    }
   ],
   "source": [
    "print(character.values())"
   ]
  },
  {
   "cell_type": "code",
   "execution_count": 47,
   "metadata": {},
   "outputs": [
    {
     "name": "stdout",
     "output_type": "stream",
     "text": [
      "Name\n",
      "Vision\n",
      "Region\n"
     ]
    }
   ],
   "source": [
    "# ambil key\n",
    "for data in character:\n",
    "    print(data)"
   ]
  },
  {
   "cell_type": "code",
   "execution_count": 48,
   "metadata": {},
   "outputs": [
    {
     "name": "stdout",
     "output_type": "stream",
     "text": [
      "Ayaka\n",
      "Cryo\n",
      "Inazuma\n"
     ]
    }
   ],
   "source": [
    "# ambil value\n",
    "for data in character.values():\n",
    "    print(data)"
   ]
  },
  {
   "cell_type": "markdown",
   "metadata": {},
   "source": [
    "## Get Items\n",
    "\n",
    "diubah menjadi tuples di dalam list"
   ]
  },
  {
   "cell_type": "code",
   "execution_count": 49,
   "metadata": {},
   "outputs": [
    {
     "name": "stdout",
     "output_type": "stream",
     "text": [
      "dict_items([('Name', 'Ayaka'), ('Vision', 'Cryo'), ('Region', 'Inazuma')])\n"
     ]
    }
   ],
   "source": [
    "print(character.items())"
   ]
  },
  {
   "cell_type": "code",
   "execution_count": 50,
   "metadata": {},
   "outputs": [
    {
     "name": "stdout",
     "output_type": "stream",
     "text": [
      "('Name', 'Ayaka')\n",
      "('Vision', 'Cryo')\n",
      "('Region', 'Inazuma')\n",
      "\n",
      "Name Ayaka\n",
      "Vision Cryo\n",
      "Region Inazuma\n"
     ]
    }
   ],
   "source": [
    "for data in character.items():\n",
    "    print(data)                  # <--- loop tuples\n",
    "\n",
    "print()\n",
    "\n",
    "for data in character.items():\n",
    "    print(data[0],data[1])        # <--- akses tuples tersebut"
   ]
  },
  {
   "cell_type": "code",
   "execution_count": 51,
   "metadata": {},
   "outputs": [
    {
     "name": "stdout",
     "output_type": "stream",
     "text": [
      "Name : Ayaka\n",
      "Vision : Cryo\n",
      "Region : Inazuma\n"
     ]
    }
   ],
   "source": [
    "for key, value in character.items():\n",
    "    print(f'{key} : {value}')"
   ]
  },
  {
   "cell_type": "markdown",
   "metadata": {},
   "source": [
    "## Edit values"
   ]
  },
  {
   "cell_type": "code",
   "execution_count": 52,
   "metadata": {},
   "outputs": [
    {
     "name": "stdout",
     "output_type": "stream",
     "text": [
      "{'Name': 'Ayaka', 'Vision': 'Cryo', 'Region': 'Inazuma', 'Gender': 'Female', 'Age': 22}\n",
      "{'Name': 'Ayaka', 'Vision': 'Cryo', 'Region': 'Inazuma', 'Gender': 'Female', 'Age': 20}\n",
      "{'Name': 'Ayaka', 'Vision': 'Cryo', 'Region': 'Inazuma', 'Gender': 'Female', 'Age': 18}\n"
     ]
    }
   ],
   "source": [
    "# add value\n",
    "character['Gender']='Female'\n",
    "character.update({'Age':22})\n",
    "print(character)\n",
    "\n",
    "# change value\n",
    "character['Age']=20\n",
    "print(character)\n",
    "\n",
    "character.update({'Age':18})\n",
    "print(character)"
   ]
  },
  {
   "cell_type": "code",
   "execution_count": 53,
   "metadata": {},
   "outputs": [
    {
     "name": "stdout",
     "output_type": "stream",
     "text": [
      "{'Name': 'Ayaka', 'Vision': 'Cryo', 'Region': 'Inazuma'}\n"
     ]
    }
   ],
   "source": [
    "# delete value\n",
    "del character['Age']\n",
    "\n",
    "# delete value\n",
    "character.pop('Gender')\n",
    "print(character)\n"
   ]
  },
  {
   "cell_type": "code",
   "execution_count": 54,
   "metadata": {},
   "outputs": [
    {
     "name": "stdout",
     "output_type": "stream",
     "text": [
      "{'Name': 'Ayaka', 'Vision': 'Cryo', 'Region': 'Inazuma'}\n",
      "{'Name': 'Ayaka', 'Vision': 'Cryo', 'Region': 'Inazuma'}\n"
     ]
    }
   ],
   "source": [
    "# copy\n",
    "genshin = character.copy()\n",
    "game = dict(character)\n",
    "\n",
    "print(genshin)\n",
    "print(game)"
   ]
  },
  {
   "cell_type": "code",
   "execution_count": 55,
   "metadata": {},
   "outputs": [
    {
     "name": "stdout",
     "output_type": "stream",
     "text": [
      "{}\n"
     ]
    }
   ],
   "source": [
    "# clear all\n",
    "character.clear()\n",
    "print(character)\n",
    "\n",
    "# del\n",
    "del character"
   ]
  },
  {
   "cell_type": "markdown",
   "metadata": {},
   "source": [
    "## Nested Dictionaries\n",
    "\n",
    "A dictionary can contain dictionaries, this is called nested dictionaries."
   ]
  },
  {
   "cell_type": "code",
   "execution_count": 56,
   "metadata": {},
   "outputs": [
    {
     "name": "stdout",
     "output_type": "stream",
     "text": [
      "{'ayaka': {'vision': 'cryo', 'region': 'inazuma'}, 'ayato': {'vision': 'hydro', 'region': 'inazuma'}}\n"
     ]
    }
   ],
   "source": [
    "character = {\n",
    "  'ayaka' : {\n",
    "    'vision' : 'cryo',\n",
    "    'region' : 'inazuma'\n",
    "  },\n",
    "  'ayato' : {\n",
    "    'vision' : 'hydro',\n",
    "    'region' : 'inazuma'\n",
    "  }\n",
    "}\n",
    "\n",
    "print(character)"
   ]
  },
  {
   "cell_type": "code",
   "execution_count": 57,
   "metadata": {},
   "outputs": [
    {
     "name": "stdout",
     "output_type": "stream",
     "text": [
      "{'child1': {'name': 'Emil', 'year': 2004}, 'child2': {'name': 'Tobias', 'year': 2007}, 'child3': {'name': 'Linus', 'year': 2011}}\n"
     ]
    }
   ],
   "source": [
    "child1 = {\n",
    "  \"name\" : \"Emil\",\n",
    "  \"year\" : 2004\n",
    "}\n",
    "child2 = {\n",
    "  \"name\" : \"Tobias\",\n",
    "  \"year\" : 2007\n",
    "}\n",
    "child3 = {\n",
    "  \"name\" : \"Linus\",\n",
    "  \"year\" : 2011\n",
    "}\n",
    "\n",
    "myfamily = {\n",
    "  \"child1\" : child1,\n",
    "  \"child2\" : child2,\n",
    "  \"child3\" : child3\n",
    "}\n",
    "\n",
    "print(myfamily)"
   ]
  },
  {
   "cell_type": "markdown",
   "metadata": {},
   "source": [
    "## Dictionary in List"
   ]
  },
  {
   "cell_type": "code",
   "execution_count": 58,
   "metadata": {},
   "outputs": [
    {
     "name": "stdout",
     "output_type": "stream",
     "text": [
      "Ayaka\n",
      "Lumine\n",
      "Cryo\n",
      "None\n"
     ]
    }
   ],
   "source": [
    "this_is_list = [\n",
    "    {\n",
    "        'Nama' : 'Ayaka',\n",
    "        'Vision' : 'Cryo'\n",
    "    },\n",
    "    {\n",
    "        'Nama' : 'Lumine',\n",
    "        'Vision' : 'None'\n",
    "    }\n",
    "]\n",
    "\n",
    "for data in this_is_list:\n",
    "    print(data['Nama'])\n",
    "\n",
    "for data in this_is_list:\n",
    "    print(data['Vision'])"
   ]
  },
  {
   "cell_type": "markdown",
   "metadata": {},
   "source": [
    "## Dictionary Methods\n",
    "\n",
    "| Method  | Description\n",
    "|:-:|-\n",
    "| clear() | Removes all the elements from the dictionary\n",
    "| copy() | Returns a copy of the dictionary\n",
    "| fromkeys() | Returns a dictionary with the specified keys and value\n",
    "| get() | Returns the value of the specified key\n",
    "| items() | Returns a list containing a tuple for each key value pair\n",
    "| keys() | Returns a list containing the dictionary's keys\n",
    "| pop() | Removes the element with the specified key\n",
    "| popitem() | Removes the last inserted key-value pair\n",
    "| setdefault() | Returns the value of the specified key. If the key does not exist: insert the key, with the specified value\n",
    "| update() | Updates the dictionary with the specified key-value pairs\n",
    "| values() | Returns a list of all the values in the dictionary"
   ]
  }
 ],
 "metadata": {
  "kernelspec": {
   "display_name": "Python 3.10.5 64-bit",
   "language": "python",
   "name": "python3"
  },
  "language_info": {
   "codemirror_mode": {
    "name": "ipython",
    "version": 3
   },
   "file_extension": ".py",
   "mimetype": "text/x-python",
   "name": "python",
   "nbconvert_exporter": "python",
   "pygments_lexer": "ipython3",
   "version": "3.10.5"
  },
  "orig_nbformat": 4,
  "vscode": {
   "interpreter": {
    "hash": "f03d6a55b3ee833c3b433dc65e968f517ba035f75a667bdf60d01ab0073f40cd"
   }
  }
 },
 "nbformat": 4,
 "nbformat_minor": 2
}

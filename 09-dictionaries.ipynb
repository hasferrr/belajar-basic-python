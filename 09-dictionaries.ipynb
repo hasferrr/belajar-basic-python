{
 "cells": [
  {
   "cell_type": "markdown",
   "metadata": {},
   "source": [
    "# Dictionaries\n",
    "\n",
    "Python Collections (Arrays)\n",
    "\n",
    "There are four collection data types in the Python programming language:\n",
    "\n",
    "- **List** is a collection which is ordered and changeable. Allows duplicate members.\n",
    "- **Tuple** is a collection which is ordered and unchangeable. Allows duplicate members.\n",
    "- **Set** is a collection which is unordered, unchangeable**, and unindexed. No duplicate members.\n",
    "- **Dictionary** is a collection which is **ordered** and **changeable**. ***No duplicate*** members.\n",
    "\n",
    "> **Set items are unchangeable, but you can remove and/or add items whenever you like.\n",
    "\n",
    "> **As of Python version 3.7, dictionaries are ordered. In Python 3.6 and earlier, dictionaries are unordered."
   ]
  },
  {
   "cell_type": "code",
   "execution_count": 271,
   "metadata": {},
   "outputs": [
    {
     "name": "stdout",
     "output_type": "stream",
     "text": [
      "3\n",
      "<class 'dict'>\n",
      "{'Name': 'Ayaka', 'Vision': 'Cryo', 'Region': 'Inazuma'}\n"
     ]
    }
   ],
   "source": [
    "character = {\n",
    "    'Name':'Ayaka',\n",
    "    'Vision':'Cryo',\n",
    "    'Region':'Inazuma'\n",
    "}\n",
    "print(len(character))\n",
    "print(type(character))\n",
    "print(character)"
   ]
  },
  {
   "cell_type": "code",
   "execution_count": 272,
   "metadata": {},
   "outputs": [
    {
     "name": "stdout",
     "output_type": "stream",
     "text": [
      "yes\n"
     ]
    }
   ],
   "source": [
    "if 'Vision' in character:\n",
    "    print('yes')"
   ]
  },
  {
   "cell_type": "markdown",
   "metadata": {},
   "source": [
    "## Access Items"
   ]
  },
  {
   "cell_type": "code",
   "execution_count": 273,
   "metadata": {},
   "outputs": [
    {
     "name": "stdout",
     "output_type": "stream",
     "text": [
      "Ayaka\n",
      "Cryo\n",
      "Inazuma\n"
     ]
    }
   ],
   "source": [
    "name = character['Name']\n",
    "vision = character['Vision']\n",
    "region = character.get('Region')\n",
    "\n",
    "print(name)\n",
    "print(vision)\n",
    "print(region)"
   ]
  },
  {
   "cell_type": "markdown",
   "metadata": {},
   "source": [
    "## Get Keys and Values\n",
    "```py\n",
    "{\n",
    "    'key1'='values1',\n",
    "    'key2'='values2',\n",
    "}\n",
    "```"
   ]
  },
  {
   "cell_type": "code",
   "execution_count": 274,
   "metadata": {},
   "outputs": [
    {
     "name": "stdout",
     "output_type": "stream",
     "text": [
      "dict_keys(['Name', 'Vision', 'Region'])\n"
     ]
    }
   ],
   "source": [
    "print(character.keys())"
   ]
  },
  {
   "cell_type": "code",
   "execution_count": 275,
   "metadata": {},
   "outputs": [
    {
     "name": "stdout",
     "output_type": "stream",
     "text": [
      "dict_values(['Ayaka', 'Cryo', 'Inazuma'])\n"
     ]
    }
   ],
   "source": [
    "print(character.values())"
   ]
  },
  {
   "cell_type": "code",
   "execution_count": 276,
   "metadata": {},
   "outputs": [
    {
     "name": "stdout",
     "output_type": "stream",
     "text": [
      "Name\n",
      "Vision\n",
      "Region\n"
     ]
    }
   ],
   "source": [
    "# ambil key\n",
    "for data in character:\n",
    "    print(data)"
   ]
  },
  {
   "cell_type": "code",
   "execution_count": 277,
   "metadata": {},
   "outputs": [
    {
     "name": "stdout",
     "output_type": "stream",
     "text": [
      "Ayaka\n",
      "Cryo\n",
      "Inazuma\n"
     ]
    }
   ],
   "source": [
    "# ambil value\n",
    "for data in character.values():\n",
    "    print(data)"
   ]
  },
  {
   "cell_type": "markdown",
   "metadata": {},
   "source": [
    "## Get Items\n",
    "\n",
    "diubah menjadi tuples di dalam list"
   ]
  },
  {
   "cell_type": "code",
   "execution_count": 278,
   "metadata": {},
   "outputs": [
    {
     "name": "stdout",
     "output_type": "stream",
     "text": [
      "dict_items([('Name', 'Ayaka'), ('Vision', 'Cryo'), ('Region', 'Inazuma')])\n"
     ]
    }
   ],
   "source": [
    "print(character.items())"
   ]
  },
  {
   "cell_type": "code",
   "execution_count": 279,
   "metadata": {},
   "outputs": [
    {
     "name": "stdout",
     "output_type": "stream",
     "text": [
      "('Name', 'Ayaka')\n",
      "('Vision', 'Cryo')\n",
      "('Region', 'Inazuma')\n",
      "\n",
      "Name Ayaka\n",
      "Vision Cryo\n",
      "Region Inazuma\n"
     ]
    }
   ],
   "source": [
    "for key in character.items():\n",
    "    print(key)                  # <--- loop tuples\n",
    "\n",
    "print()\n",
    "\n",
    "for key in character.items():\n",
    "    print(key[0],key[1])        # <--- akses tuples tersebut"
   ]
  },
  {
   "cell_type": "code",
   "execution_count": 280,
   "metadata": {},
   "outputs": [
    {
     "name": "stdout",
     "output_type": "stream",
     "text": [
      "Name : Ayaka\n",
      "Vision : Cryo\n",
      "Region : Inazuma\n"
     ]
    }
   ],
   "source": [
    "for key, value in character.items():\n",
    "    print(f'{key} : {value}')"
   ]
  },
  {
   "cell_type": "markdown",
   "metadata": {},
   "source": [
    "## Edit values"
   ]
  },
  {
   "cell_type": "code",
   "execution_count": 281,
   "metadata": {},
   "outputs": [
    {
     "name": "stdout",
     "output_type": "stream",
     "text": [
      "{'Name': 'Ayaka', 'Vision': 'Cryo', 'Region': 'Inazuma', 'Gender': 'Female', 'Age': 22}\n",
      "{'Name': 'Ayaka', 'Vision': 'Cryo', 'Region': 'Inazuma', 'Gender': 'Female', 'Age': 20}\n",
      "{'Name': 'Ayaka', 'Vision': 'Cryo', 'Region': 'Inazuma', 'Gender': 'Female', 'Age': 18}\n"
     ]
    }
   ],
   "source": [
    "# add value\n",
    "character['Gender']='Female'\n",
    "character.update({'Age':22})\n",
    "print(character)\n",
    "\n",
    "# change value\n",
    "character['Age']=20\n",
    "print(character)\n",
    "\n",
    "character.update({'Age':18})\n",
    "print(character)"
   ]
  },
  {
   "cell_type": "code",
   "execution_count": 282,
   "metadata": {},
   "outputs": [
    {
     "name": "stdout",
     "output_type": "stream",
     "text": [
      "{'Name': 'Ayaka', 'Vision': 'Cryo', 'Region': 'Inazuma'}\n"
     ]
    }
   ],
   "source": [
    "# delete value\n",
    "del character['Age']\n",
    "\n",
    "# delete value\n",
    "character.pop('Gender')\n",
    "print(character)\n"
   ]
  },
  {
   "cell_type": "code",
   "execution_count": 283,
   "metadata": {},
   "outputs": [
    {
     "name": "stdout",
     "output_type": "stream",
     "text": [
      "{'Name': 'Ayaka', 'Vision': 'Cryo', 'Region': 'Inazuma'}\n",
      "{'Name': 'Ayaka', 'Vision': 'Cryo', 'Region': 'Inazuma'}\n"
     ]
    }
   ],
   "source": [
    "# copy\n",
    "genshin = character.copy()\n",
    "game = dict(character)\n",
    "\n",
    "print(genshin)\n",
    "print(game)"
   ]
  },
  {
   "cell_type": "code",
   "execution_count": 284,
   "metadata": {},
   "outputs": [
    {
     "name": "stdout",
     "output_type": "stream",
     "text": [
      "{}\n"
     ]
    }
   ],
   "source": [
    "# clear all\n",
    "character.clear()\n",
    "print(character)\n",
    "\n",
    "# del\n",
    "del character"
   ]
  },
  {
   "cell_type": "markdown",
   "metadata": {},
   "source": [
    "## Nested Dictionaries\n",
    "\n",
    "A dictionary can contain dictionaries, this is called nested dictionaries."
   ]
  },
  {
   "cell_type": "code",
   "execution_count": 285,
   "metadata": {},
   "outputs": [
    {
     "name": "stdout",
     "output_type": "stream",
     "text": [
      "{'ayaka': {'vision': 'cryo', 'region': 'inazuma'}, 'ayato': {'vision': 'hydro', 'region': 'inazuma'}}\n"
     ]
    }
   ],
   "source": [
    "character = {\n",
    "  'ayaka' : {\n",
    "    'vision' : 'cryo',\n",
    "    'region' : 'inazuma'\n",
    "  },\n",
    "  'ayato' : {\n",
    "    'vision' : 'hydro',\n",
    "    'region' : 'inazuma'\n",
    "  }\n",
    "}\n",
    "\n",
    "print(character)"
   ]
  },
  {
   "cell_type": "code",
   "execution_count": 286,
   "metadata": {},
   "outputs": [
    {
     "name": "stdout",
     "output_type": "stream",
     "text": [
      "{'child1': {'name': 'Emil', 'year': 2004}, 'child2': {'name': 'Tobias', 'year': 2007}, 'child3': {'name': 'Linus', 'year': 2011}}\n"
     ]
    }
   ],
   "source": [
    "child1 = {\n",
    "  \"name\" : \"Emil\",\n",
    "  \"year\" : 2004\n",
    "}\n",
    "child2 = {\n",
    "  \"name\" : \"Tobias\",\n",
    "  \"year\" : 2007\n",
    "}\n",
    "child3 = {\n",
    "  \"name\" : \"Linus\",\n",
    "  \"year\" : 2011\n",
    "}\n",
    "\n",
    "myfamily = {\n",
    "  \"child1\" : child1,\n",
    "  \"child2\" : child2,\n",
    "  \"child3\" : child3\n",
    "}\n",
    "\n",
    "print(myfamily)"
   ]
  },
  {
   "cell_type": "markdown",
   "metadata": {},
   "source": [
    "## Dictionary Methods\n",
    "\n",
    "| Method  | Description\n",
    "|:-:|-\n",
    "| clear() | Removes all the elements from the dictionary\n",
    "| copy() | Returns a copy of the dictionary\n",
    "| fromkeys() | Returns a dictionary with the specified keys and value\n",
    "| get() | Returns the value of the specified key\n",
    "| items() | Returns a list containing a tuple for each key value pair\n",
    "| keys() | Returns a list containing the dictionary's keys\n",
    "| pop() | Removes the element with the specified key\n",
    "| popitem() | Removes the last inserted key-value pair\n",
    "| setdefault() | Returns the value of the specified key. If the key does not exist: insert the key, with the specified value\n",
    "| update() | Updates the dictionary with the specified key-value pairs\n",
    "| values() | Returns a list of all the values in the dictionary"
   ]
  }
 ],
 "metadata": {
  "interpreter": {
   "hash": "b9a4ce8203be6451c9e245250f76c9e2ec96546a462dcf810fde9b25f5db38cf"
  },
  "kernelspec": {
   "display_name": "Python 3.9.13 64-bit",
   "language": "python",
   "name": "python3"
  },
  "language_info": {
   "codemirror_mode": {
    "name": "ipython",
    "version": 3
   },
   "file_extension": ".py",
   "mimetype": "text/x-python",
   "name": "python",
   "nbconvert_exporter": "python",
   "pygments_lexer": "ipython3",
   "version": "3.9.13"
  },
  "orig_nbformat": 4
 },
 "nbformat": 4,
 "nbformat_minor": 2
}

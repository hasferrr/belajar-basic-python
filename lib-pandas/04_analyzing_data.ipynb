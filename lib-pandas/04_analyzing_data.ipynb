{
 "cells": [
  {
   "cell_type": "markdown",
   "metadata": {},
   "source": [
    "## Pandas - Analyzing DataFrames"
   ]
  },
  {
   "cell_type": "markdown",
   "metadata": {},
   "source": [
    "### Viewing the Data\n"
   ]
  },
  {
   "cell_type": "code",
   "execution_count": 28,
   "metadata": {},
   "outputs": [
    {
     "name": "stdout",
     "output_type": "stream",
     "text": [
      "              Name Team        Position  Height  Weight    Age PosCategory\n",
      "0    Adam_Donachie  BAL         Catcher      74     180  22.99     Catcher\n",
      "1        Paul_Bako  BAL         Catcher      74     215  34.69     Catcher\n",
      "2  Ramon_Hernandez  BAL         Catcher      72     210  30.78     Catcher\n",
      "3     Kevin_Millar  BAL   First_Baseman      72     210  35.43   Infielder\n",
      "4      Chris_Gomez  BAL   First_Baseman      73     188  35.71   Infielder\n",
      "5    Brian_Roberts  BAL  Second_Baseman      69     176  29.39   Infielder\n",
      "6    Miguel_Tejada  BAL       Shortstop      69     209  30.77   Infielder\n",
      "7      Melvin_Mora  BAL   Third_Baseman      71     200  35.07   Infielder\n",
      "8      Aubrey_Huff  BAL   Third_Baseman      76     231  30.19   Infielder\n",
      "9       Adam_Stern  BAL      Outfielder      71     180  27.05  Outfielder\n"
     ]
    }
   ],
   "source": [
    "import pandas as pd\n",
    "\n",
    "df = pd.read_csv('files/baseball.csv')\n",
    "\n",
    "print(df.head(10))\n",
    "\n",
    "# .head() dan .tail() method by default will return the top 5 rows"
   ]
  },
  {
   "cell_type": "code",
   "execution_count": 29,
   "metadata": {},
   "outputs": [
    {
     "name": "stdout",
     "output_type": "stream",
     "text": [
      "                Name Team        Position  Height  Weight    Age PosCategory\n",
      "1010   Brad_Thompson  STL  Relief_Pitcher      73     190  25.08     Pitcher\n",
      "1011   Tyler_Johnson  STL  Relief_Pitcher      74     180  25.73     Pitcher\n",
      "1012  Chris_Narveson  STL  Relief_Pitcher      75     205  25.19     Pitcher\n",
      "1013   Randy_Keisler  STL  Relief_Pitcher      75     190  31.01     Pitcher\n",
      "1014     Josh_Kinney  STL  Relief_Pitcher      73     195  27.92     Pitcher\n"
     ]
    }
   ],
   "source": [
    "print(df.tail())"
   ]
  },
  {
   "cell_type": "markdown",
   "metadata": {},
   "source": [
    "### Info About the Data\n",
    "\n",
    "The DataFrames object has a method called `info()`, that gives you more information about the data set."
   ]
  },
  {
   "cell_type": "code",
   "execution_count": 30,
   "metadata": {},
   "outputs": [
    {
     "name": "stdout",
     "output_type": "stream",
     "text": [
      "<class 'pandas.core.frame.DataFrame'>\n",
      "RangeIndex: 1015 entries, 0 to 1014\n",
      "Data columns (total 7 columns):\n",
      " #   Column       Non-Null Count  Dtype  \n",
      "---  ------       --------------  -----  \n",
      " 0   Name         1015 non-null   object \n",
      " 1   Team         1015 non-null   object \n",
      " 2   Position     1015 non-null   object \n",
      " 3   Height       1015 non-null   int64  \n",
      " 4   Weight       1015 non-null   int64  \n",
      " 5   Age          1015 non-null   float64\n",
      " 6   PosCategory  1015 non-null   object \n",
      "dtypes: float64(1), int64(2), object(4)\n",
      "memory usage: 55.6+ KB\n",
      "None\n"
     ]
    }
   ],
   "source": [
    "df.info()"
   ]
  },
  {
   "cell_type": "markdown",
   "metadata": {},
   "source": [
    "Result Explained :\n",
    "\n",
    "The result tells us there are 1015 rows and 7 columns:\n",
    "\n",
    "```bash\n",
    "RangeIndex: 1015 entries, 0 to 1014\n",
    "Data columns (total 7 columns):\n",
    "```\n",
    "\n",
    "And the name of each column, with the data type:\n",
    "\n",
    "```bash\n",
    "#   Column       Non-Null Count  Dtype  \n",
    "---  ------       --------------  -----  \n",
    " 0   Name         1015 non-null   object \n",
    " 1   Team         1015 non-null   object \n",
    " 2   Position     1015 non-null   object \n",
    " 3   Height       1015 non-null   int64  \n",
    " 4   Weight       1015 non-null   int64  \n",
    " 5   Age          1015 non-null   float64\n",
    " 6   PosCategory  1015 non-null   object\n",
    "```"
   ]
  }
 ],
 "metadata": {
  "kernelspec": {
   "display_name": "Python 3.10.5 64-bit",
   "language": "python",
   "name": "python3"
  },
  "language_info": {
   "codemirror_mode": {
    "name": "ipython",
    "version": 3
   },
   "file_extension": ".py",
   "mimetype": "text/x-python",
   "name": "python",
   "nbconvert_exporter": "python",
   "pygments_lexer": "ipython3",
   "version": "3.10.5"
  },
  "orig_nbformat": 4,
  "vscode": {
   "interpreter": {
    "hash": "f03d6a55b3ee833c3b433dc65e968f517ba035f75a667bdf60d01ab0073f40cd"
   }
  }
 },
 "nbformat": 4,
 "nbformat_minor": 2
}

{
 "cells": [
  {
   "cell_type": "markdown",
   "metadata": {},
   "source": [
    "# Function"
   ]
  },
  {
   "cell_type": "markdown",
   "metadata": {},
   "source": [
    "## Keyword Argument List (Arbitrary Keyword Arguments, **kwargs)\n",
    "\n",
    "If you do not know how many keyword arguments *(don't know how many arguments dan value-nya: `argument='value'`)* that will be passed into your function, add two asterisk: `**` before the parameter name in the function definition.\n",
    "\n",
    "This way the function will receive a *dictionary* of arguments, and can access the items accordingly:\n",
    "\n",
    "- arbitary key arg list ini digunakan untuk menambahkan argument ketika calling function yang sebelumnya  argument tersebut belum ada pada def function\n",
    "- jadi seperti bisa memasukkan / menambahkan custom argument\n",
    "- jadi seperti menambahkan `argument='value'` baru pada saat calling function\n",
    "\n",
    "```py\n",
    "def function(arg_1, arg_2, arg_n, *args, **kwargs):\n",
    "    code block\n",
    "```"
   ]
  },
  {
   "cell_type": "code",
   "execution_count": 1,
   "metadata": {},
   "outputs": [
    {
     "name": "stdout",
     "output_type": "stream",
     "text": [
      "hello {'kwargs': 'world'}\n",
      "<class 'dict'>\n"
     ]
    }
   ],
   "source": [
    "def func(par1,**kwargs):\n",
    "    print(f'{par1} {kwargs}')\n",
    "    return kwargs\n",
    "\n",
    "kwargs = func('hello',kwargs='world')\n",
    "\n",
    "print(type(kwargs))"
   ]
  },
  {
   "cell_type": "code",
   "execution_count": 2,
   "metadata": {},
   "outputs": [
    {
     "name": "stdout",
     "output_type": "stream",
     "text": [
      "-- Do you have any Burger ?\n",
      "-- I'm sorry, we're all out of Burger\n",
      "bruh why\n",
      "sokka, out of stock\n",
      "----------------------------------------\n",
      "customer : aether\n",
      "vision : none\n"
     ]
    }
   ],
   "source": [
    "# urutan : (arg_1, arg_2, arg_n, *args, **kwargs)\n",
    "\n",
    "def cheeseshop(kind='Pizza', *arguments, **keywords):\n",
    "    print(\"-- Do you have any\", kind, \"?\")\n",
    "    print(\"-- I'm sorry, we're all out of\", kind)\n",
    "    for arg in arguments:\n",
    "        print(arg)\n",
    "\n",
    "    print(\"-\" * 40)\n",
    "    for key in keywords:\n",
    "        print(f'{key} : {keywords[key]}')\n",
    "\n",
    "cheeseshop('Burger', 'bruh why', 'sokka, out of stock', customer='aether', vision='none')"
   ]
  },
  {
   "cell_type": "markdown",
   "metadata": {},
   "source": [
    "## The pass Statement\n",
    "\n",
    "`function` definitions cannot be empty, but if you for some reason have a `function` definition with no content, put in the `pass` statement to avoid getting an error."
   ]
  },
  {
   "cell_type": "code",
   "execution_count": 3,
   "metadata": {},
   "outputs": [],
   "source": [
    "def f():\n",
    "    pass"
   ]
  }
 ],
 "metadata": {
  "interpreter": {
   "hash": "b9a4ce8203be6451c9e245250f76c9e2ec96546a462dcf810fde9b25f5db38cf"
  },
  "kernelspec": {
   "display_name": "Python 3.9.13 64-bit",
   "language": "python",
   "name": "python3"
  },
  "language_info": {
   "codemirror_mode": {
    "name": "ipython",
    "version": 3
   },
   "file_extension": ".py",
   "mimetype": "text/x-python",
   "name": "python",
   "nbconvert_exporter": "python",
   "pygments_lexer": "ipython3",
   "version": "3.9.13"
  },
  "orig_nbformat": 4
 },
 "nbformat": 4,
 "nbformat_minor": 2
}

{
 "cells": [
  {
   "cell_type": "markdown",
   "metadata": {},
   "source": [
    "# catatan python\n",
    "lelearn python"
   ]
  },
  {
   "cell_type": "code",
   "execution_count": 1,
   "metadata": {},
   "outputs": [
    {
     "name": "stdout",
     "output_type": "stream",
     "text": [
      "hello world\n",
      "5\n",
      "nilai a adalah 8\n",
      "nilai b adalah \n",
      " 10\n",
      "asdfrqewr ggwp8 10\n"
     ]
    }
   ],
   "source": [
    "print(\"hello world\")\n",
    "a=5\n",
    "print(a)\n",
    "a+=3\n",
    "b=a+2\n",
    "print(\"nilai a adalah\",a)\n",
    "print(\"nilai b adalah\",'\\n',b)\n",
    "# this is a comment\n",
    "print(\"asdf\"+'rqewr'+\" ggwp\"+str(a),b)"
   ]
  },
  {
   "cell_type": "markdown",
   "metadata": {},
   "source": [
    "## tipe data\n",
    "string, integer, float, boolean `str int float bool`\n",
    "\n",
    "`type(variable)`"
   ]
  },
  {
   "cell_type": "code",
   "execution_count": 2,
   "metadata": {},
   "outputs": [
    {
     "name": "stdout",
     "output_type": "stream",
     "text": [
      "<class 'int'>\n",
      "5\n"
     ]
    }
   ],
   "source": [
    "this_is_integer = 5\n",
    "print(type(this_is_integer))\n",
    "print(this_is_integer)"
   ]
  },
  {
   "cell_type": "code",
   "execution_count": 3,
   "metadata": {},
   "outputs": [
    {
     "name": "stdout",
     "output_type": "stream",
     "text": [
      "<class 'float'>\n",
      "3.7\n"
     ]
    }
   ],
   "source": [
    "this_is_float = 3.7\n",
    "print(type(this_is_float))\n",
    "print(this_is_float)"
   ]
  },
  {
   "cell_type": "code",
   "execution_count": 4,
   "metadata": {},
   "outputs": [
    {
     "name": "stdout",
     "output_type": "stream",
     "text": [
      "<class 'str'>\n",
      "aowkkw 10!(@*#&\n"
     ]
    }
   ],
   "source": [
    "string_is_a_plaintext = \"aowkkw 10!(@*#&\"\n",
    "print(type(string_is_a_plaintext))\n",
    "print(string_is_a_plaintext)"
   ]
  },
  {
   "cell_type": "code",
   "execution_count": 5,
   "metadata": {},
   "outputs": [
    {
     "name": "stdout",
     "output_type": "stream",
     "text": [
      "<class 'bool'>\n",
      "True\n",
      "<class 'bool'>\n",
      "False\n"
     ]
    }
   ],
   "source": [
    "boolean_true_false = True\n",
    "print(type(boolean_true_false))\n",
    "print(boolean_true_false)\n",
    "\n",
    "print(type(2==2))\n",
    "print(5==7)"
   ]
  },
  {
   "cell_type": "code",
   "execution_count": 6,
   "metadata": {},
   "outputs": [
    {
     "name": "stdout",
     "output_type": "stream",
     "text": [
      "<class 'complex'>\n",
      "(3+2j)\n"
     ]
    }
   ],
   "source": [
    "# tipe lain\n",
    "complex_number = complex(3,2)\n",
    "print(type(complex_number))\n",
    "print(complex_number) # (3+2j) ---> xj adalah bilangan imajiner"
   ]
  },
  {
   "cell_type": "markdown",
   "metadata": {},
   "source": [
    "### casting data type\n",
    "mengubah tipe data ke tipe data yang lain dengan :\n",
    "`var=int(var_yang_mau_diubah)`"
   ]
  },
  {
   "cell_type": "code",
   "execution_count": 7,
   "metadata": {},
   "outputs": [
    {
     "name": "stdout",
     "output_type": "stream",
     "text": [
      "dari <class 'int'>\n",
      "4\n",
      "menjadi <class 'float'>\n",
      "4.0\n"
     ]
    }
   ],
   "source": [
    "integer_2 = 4\n",
    "print(\"dari\",type(integer_2))\n",
    "print(integer_2)\n",
    "\n",
    "casting_ke_float = float(integer_2)\n",
    "print(\"menjadi\",type(casting_ke_float))\n",
    "print(casting_ke_float)"
   ]
  },
  {
   "cell_type": "code",
   "execution_count": 8,
   "metadata": {},
   "outputs": [
    {
     "name": "stdout",
     "output_type": "stream",
     "text": [
      "dari <class 'float'>\n",
      "6.8\n",
      "ke <class 'int'>\n",
      "6\n"
     ]
    }
   ],
   "source": [
    "this_is_float_2 = 6.8\n",
    "print(\"dari\",type(this_is_float_2))\n",
    "print(this_is_float_2)\n",
    "\n",
    "casting_ke_int = int(this_is_float_2)\n",
    "print(\"ke\",type(casting_ke_int))\n",
    "print(casting_ke_int)"
   ]
  },
  {
   "cell_type": "code",
   "execution_count": 9,
   "metadata": {},
   "outputs": [
    {
     "name": "stdout",
     "output_type": "stream",
     "text": [
      "4\n",
      "3\n",
      "7\n",
      "True\n",
      "False\n"
     ]
    }
   ],
   "source": [
    "print(int(4.5))\n",
    "print(int(3.1))\n",
    "print(int(7.8))\n",
    "print(bool(1))\n",
    "print(bool(0))"
   ]
  },
  {
   "cell_type": "markdown",
   "metadata": {},
   "source": [
    "### string format\n",
    "\n",
    "use : `f\"text {variable}\"`"
   ]
  },
  {
   "cell_type": "code",
   "execution_count": 10,
   "metadata": {},
   "outputs": [
    {
     "name": "stdout",
     "output_type": "stream",
     "text": [
      "Iam Raiden Ei, the god of eternity\n",
      "Iam {nama_belakang} {nama_depan}, the god of eternity\n"
     ]
    }
   ],
   "source": [
    "nama_depan = \"Ei\"\n",
    "nama_belakang = \"Raiden\"\n",
    "print(f\"Iam {nama_belakang} {nama_depan}, the god of eternity\")\n",
    "print(\"Iam {nama_belakang} {nama_depan}, the god of eternity\")"
   ]
  },
  {
   "cell_type": "markdown",
   "metadata": {},
   "source": [
    "## math\n",
    "just simple math"
   ]
  },
  {
   "cell_type": "code",
   "execution_count": 11,
   "metadata": {},
   "outputs": [
    {
     "name": "stdout",
     "output_type": "stream",
     "text": [
      "8\n",
      "12\n",
      "3.0\n",
      "36\n"
     ]
    }
   ],
   "source": [
    "print(6+2)\n",
    "print(6*2)\n",
    "print(6/2) # otomatis jadi float\n",
    "print(6**2) # pangkat"
   ]
  },
  {
   "cell_type": "code",
   "execution_count": 12,
   "metadata": {},
   "outputs": [
    {
     "name": "stdout",
     "output_type": "stream",
     "text": [
      "6.4\n",
      "6\n",
      "4\n"
     ]
    }
   ],
   "source": [
    "# division\n",
    "print(64/10)\n",
    "# integer division\n",
    "print(64//10)\n",
    "# modulus operator (sisa bagi)\n",
    "print(64%10) "
   ]
  },
  {
   "cell_type": "markdown",
   "metadata": {},
   "source": [
    "## input\n",
    "\n",
    "input data dari pengguna\n",
    "\n",
    "input pasti bertipe str"
   ]
  },
  {
   "cell_type": "code",
   "execution_count": 13,
   "metadata": {},
   "outputs": [
    {
     "name": "stdout",
     "output_type": "stream",
     "text": [
      "Silahkan masukkan nama :\n",
      "Halo ayaka, selamat datang\n"
     ]
    }
   ],
   "source": [
    "print(\"Silahkan masukkan nama :\")\n",
    "nama = input()\n",
    "print(f\"Halo {nama}, selamat datang\")"
   ]
  },
  {
   "cell_type": "code",
   "execution_count": 14,
   "metadata": {},
   "outputs": [
    {
     "name": "stdout",
     "output_type": "stream",
     "text": [
      "input angka pertama :\n",
      "2\n",
      "input angka kedua :\n",
      "6\n",
      "hasil penjumlahan --> 2 + 6 = 8\n"
     ]
    }
   ],
   "source": [
    "print(\"input angka pertama :\")\n",
    "a = int(input())\n",
    "print(a)\n",
    "print(\"input angka kedua :\")\n",
    "b = int(input())\n",
    "print(b)\n",
    "hasil_penjumlahan = a+b\n",
    "print(f\"hasil penjumlahan --> {a} + {b} = {hasil_penjumlahan}\")"
   ]
  },
  {
   "cell_type": "markdown",
   "metadata": {},
   "source": [
    "## operator logika\n",
    "\n",
    "`not, or, and, xor`\n",
    "\n",
    "`xor` = exclusive or = `^`\n",
    "\n",
    "`not` adalah negasi"
   ]
  },
  {
   "cell_type": "code",
   "execution_count": 15,
   "metadata": {},
   "outputs": [
    {
     "name": "stdout",
     "output_type": "stream",
     "text": [
      "True\n",
      "False\n"
     ]
    }
   ],
   "source": [
    "a=True\n",
    "print(a)\n",
    "print(not a)"
   ]
  },
  {
   "cell_type": "code",
   "execution_count": 16,
   "metadata": {},
   "outputs": [
    {
     "name": "stdout",
     "output_type": "stream",
     "text": [
      "True and True = True\n",
      "True and False = False\n",
      "False and True = False\n",
      "False and False = False\n"
     ]
    }
   ],
   "source": [
    "# and\n",
    "print(f\"True and True = {True and True}\")\n",
    "print(f\"True and False = {True and False}\")\n",
    "print(f\"False and True = {False and True}\")\n",
    "print(f\"False and False = {False and False}\")"
   ]
  },
  {
   "cell_type": "code",
   "execution_count": 17,
   "metadata": {},
   "outputs": [
    {
     "name": "stdout",
     "output_type": "stream",
     "text": [
      "True or True = True\n",
      "True or False = True\n",
      "False or True = True\n",
      "False or False = False\n"
     ]
    }
   ],
   "source": [
    "# or\n",
    "print(f\"True or True = {True or True}\")\n",
    "print(f\"True or False = {True or False}\")\n",
    "print(f\"False or True = {False or True}\")\n",
    "print(f\"False or False = {False or False}\")"
   ]
  },
  {
   "cell_type": "code",
   "execution_count": 18,
   "metadata": {},
   "outputs": [
    {
     "name": "stdout",
     "output_type": "stream",
     "text": [
      "True ^ True = False\n",
      "True ^ False = True\n",
      "False ^ True = True\n",
      "False ^ False = False\n"
     ]
    }
   ],
   "source": [
    "# xor\n",
    "print(f\"True ^ True = {True ^ True}\")\n",
    "print(f\"True ^ False = {True ^ False}\")\n",
    "print(f\"False ^ True = {False ^ True}\")\n",
    "print(f\"False ^ False = {False ^ False}\")"
   ]
  },
  {
   "cell_type": "markdown",
   "metadata": {},
   "source": [
    "## operator perbandingan\n",
    "\n",
    "`< > >= <= == !=`\n",
    "\n",
    "`is`\n",
    "\n",
    "`is not`"
   ]
  },
  {
   "cell_type": "code",
   "execution_count": 19,
   "metadata": {},
   "outputs": [
    {
     "name": "stdout",
     "output_type": "stream",
     "text": [
      "False\n",
      "True\n"
     ]
    }
   ],
   "source": [
    "print(3>9)\n",
    "print(5==5)"
   ]
  },
  {
   "cell_type": "code",
   "execution_count": 20,
   "metadata": {},
   "outputs": [
    {
     "name": "stdout",
     "output_type": "stream",
     "text": [
      "a=5, b=9\n",
      "id(a)=2637810133424, id(b)=2637810133552\n",
      "False\n",
      "False\n"
     ]
    }
   ],
   "source": [
    "# 'is' dan 'is not' sebagai komparasi object [identity]\n",
    "# integer adalah literal\n",
    "# variabel adalah objek\n",
    "a=5\n",
    "b=9\n",
    "print(f\"a={a}, b={b}\")\n",
    "print(f\"id(a)={id(a)}, id(b)={id(b)}\")\n",
    "print(a==b)\n",
    "print(a is b)"
   ]
  },
  {
   "cell_type": "markdown",
   "metadata": {},
   "source": [
    "## if\n",
    "\n",
    "```py\n",
    "if kondisi:\n",
    "    eksekusi\n",
    "else:\n",
    "    eksekusi\n",
    "```"
   ]
  },
  {
   "cell_type": "code",
   "execution_count": 21,
   "metadata": {},
   "outputs": [
    {
     "name": "stdout",
     "output_type": "stream",
     "text": [
      "y\n"
     ]
    }
   ],
   "source": [
    "# if\n",
    "# if not\n",
    "# elif (else if) sama dengan if,\n",
    "#   tetapi akan menghentikan percabangannya dan\n",
    "#   tidak akan berjalan jika if yang sejajar diatasnya bernilai benar\n",
    "# else berarti \"jika tidak\" pada fungsi \"if\" diatasnya (sejajar)\n",
    "a=10\n",
    "b=20\n",
    "if a==b:\n",
    "    print(\"x\")\n",
    "elif a<b:\n",
    "    print(\"y\")\n",
    "else:\n",
    "    print(\"z\")"
   ]
  },
  {
   "cell_type": "code",
   "execution_count": 22,
   "metadata": {},
   "outputs": [
    {
     "name": "stdout",
     "output_type": "stream",
     "text": [
      "masukkan nilai anda 0-100 :\n",
      "nilai = 89.0\n",
      "nilai kumulatif anda adalah A-\n"
     ]
    }
   ],
   "source": [
    "print(\"masukkan nilai anda 0-100 :\")\n",
    "nilai=float(input())\n",
    "print(f\"nilai = {nilai}\")\n",
    "if nilai>=0 and nilai<=100:\n",
    "    if nilai==100:\n",
    "        print(\"nilai kumulatif anda adalah A+ (sempurna)\")\n",
    "    elif nilai>=90:\n",
    "        print(\"nilai kumulatif anda adalah A\")\n",
    "    elif nilai>=85:\n",
    "        print(\"nilai kumulatif anda adalah A-\")\n",
    "    elif nilai>=80:\n",
    "        print(\"nilai kumulatif anda adalah A/B\")\n",
    "    elif nilai>=75:\n",
    "        print(\"nilai kumulatif anda adalah B+\")\n",
    "    elif nilai>=70:\n",
    "        print(\"nilai kumulatif anda adalah B\")\n",
    "    else:\n",
    "        print(\"nilai kumulatif anda adalah E\")\n",
    "else:\n",
    "    print(\"nilai yang anda masukkan tidak sesuai, coba lagi\")\n",
    "if nilai<70:\n",
    "        print(\"anda tidak lulus\")"
   ]
  },
  {
   "cell_type": "markdown",
   "metadata": {},
   "source": [
    "## Python Collections (Arrays)\n",
    "\n",
    "There are four collection data types in the Python programming language:\n",
    "- List\n",
    "- Tuple\n",
    "- Set\n",
    "- Dictionary\n"
   ]
  }
 ],
 "metadata": {
  "interpreter": {
   "hash": "b9a4ce8203be6451c9e245250f76c9e2ec96546a462dcf810fde9b25f5db38cf"
  },
  "kernelspec": {
   "display_name": "Python 3.9.10 64-bit",
   "language": "python",
   "name": "python3"
  },
  "language_info": {
   "codemirror_mode": {
    "name": "ipython",
    "version": 3
   },
   "file_extension": ".py",
   "mimetype": "text/x-python",
   "name": "python",
   "nbconvert_exporter": "python",
   "pygments_lexer": "ipython3",
   "version": "3.9.13"
  },
  "orig_nbformat": 4
 },
 "nbformat": 4,
 "nbformat_minor": 2
}

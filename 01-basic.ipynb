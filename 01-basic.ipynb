{
 "cells": [
  {
   "cell_type": "markdown",
   "metadata": {},
   "source": [
    "# catatan python\n",
    "lelearn python"
   ]
  },
  {
   "cell_type": "code",
   "execution_count": 64,
   "metadata": {},
   "outputs": [
    {
     "name": "stdout",
     "output_type": "stream",
     "text": [
      "hello world\n",
      "5\n",
      "nilai a adalah 8\n",
      "nilai b adalah \n",
      " 10\n",
      "asdfrqewr ggwp8 10\n"
     ]
    }
   ],
   "source": [
    "print(\"hello world\")\n",
    "a=5\n",
    "print(a)\n",
    "a+=3\n",
    "b=a+2\n",
    "print(\"nilai a adalah\",a)\n",
    "print(\"nilai b adalah\",'\\n',b)\n",
    "# this is a comment\n",
    "print(\"asdf\"+'rqewr'+\" ggwp\"+str(a),b)"
   ]
  },
  {
   "cell_type": "markdown",
   "metadata": {},
   "source": [
    "## tipe data\n",
    "string, integer, float, boolean `str int float bool`\n",
    "\n",
    "`type(variable)`"
   ]
  },
  {
   "cell_type": "code",
   "execution_count": null,
   "metadata": {},
   "outputs": [],
   "source": [
    "integer = 5\n",
    "print(type(integer))\n",
    "print(integer)"
   ]
  },
  {
   "cell_type": "code",
   "execution_count": null,
   "metadata": {},
   "outputs": [],
   "source": [
    "this_is_float = 3.7\n",
    "print(type(this_is_float))\n",
    "print(this_is_float)"
   ]
  },
  {
   "cell_type": "code",
   "execution_count": null,
   "metadata": {},
   "outputs": [],
   "source": [
    "string_like_a_plaintext = \"aowkkw 10!(@*#&\"\n",
    "print(type(string_like_a_plaintext))\n",
    "print(string_like_a_plaintext)"
   ]
  },
  {
   "cell_type": "code",
   "execution_count": 57,
   "metadata": {},
   "outputs": [
    {
     "name": "stdout",
     "output_type": "stream",
     "text": [
      "<class 'bool'>\n",
      "True\n",
      "<class 'bool'>\n",
      "False\n"
     ]
    }
   ],
   "source": [
    "boolean_true_false_only = True\n",
    "print(type(boolean_true_false_only))\n",
    "print(boolean_true_false_only)\n",
    "\n",
    "print(type(2==2))\n",
    "print(5==7)"
   ]
  },
  {
   "cell_type": "code",
   "execution_count": null,
   "metadata": {},
   "outputs": [],
   "source": [
    "# tipe lain\n",
    "data_comp = complex(3,2)\n",
    "print(type(data_comp))\n",
    "print(data_comp) # (3+2j) ---> xj adalah bilangan imajiner"
   ]
  },
  {
   "cell_type": "markdown",
   "metadata": {},
   "source": [
    "### casting data type\n",
    "mengubah tipe data ke tipe data yang lain dengan :\n",
    "`var=int(var_yang_mau_diubah)`"
   ]
  },
  {
   "cell_type": "code",
   "execution_count": null,
   "metadata": {},
   "outputs": [],
   "source": [
    "integer_2 = 4\n",
    "print(\"dari\",type(integer_2))\n",
    "print(integer_2)\n",
    "\n",
    "casting_ke_float = float(integer_2)\n",
    "print(\"menjadi\",type(casting_ke_float))\n",
    "print(casting_ke_float)"
   ]
  },
  {
   "cell_type": "code",
   "execution_count": null,
   "metadata": {},
   "outputs": [],
   "source": [
    "this_is_float_2 = 6.8\n",
    "print(\"dari\",type(this_is_float_2))\n",
    "print(this_is_float_2)\n",
    "\n",
    "casting_ke_int = int(this_is_float_2)\n",
    "print(\"ke\",type(casting_ke_int))\n",
    "print(casting_ke_int)"
   ]
  },
  {
   "cell_type": "code",
   "execution_count": null,
   "metadata": {},
   "outputs": [],
   "source": [
    "print(int(4.5))\n",
    "print(int(3.1))\n",
    "print(int(7.8))\n",
    "print(bool(1))\n",
    "print(bool(0))"
   ]
  },
  {
   "cell_type": "markdown",
   "metadata": {},
   "source": [
    "### string format\n",
    "\n",
    "use : `f\"text {variable}\"`"
   ]
  },
  {
   "cell_type": "code",
   "execution_count": 75,
   "metadata": {},
   "outputs": [
    {
     "name": "stdout",
     "output_type": "stream",
     "text": [
      "Iam Raiden Ei, the god of eternity\n",
      "Iam {nama_belakang} {nama_depan}, the god of eternity\n"
     ]
    }
   ],
   "source": [
    "nama_depan = \"Ei\"\n",
    "nama_belakang = \"Raiden\"\n",
    "print(f\"Iam {nama_belakang} {nama_depan}, the god of eternity\")\n",
    "print(\"Iam {nama_belakang} {nama_depan}, the god of eternity\")"
   ]
  },
  {
   "cell_type": "markdown",
   "metadata": {},
   "source": [
    "## math\n",
    "just simple math"
   ]
  },
  {
   "cell_type": "code",
   "execution_count": 65,
   "metadata": {},
   "outputs": [
    {
     "name": "stdout",
     "output_type": "stream",
     "text": [
      "8\n",
      "12\n",
      "3.0\n",
      "36\n",
      "2\n"
     ]
    }
   ],
   "source": [
    "print(6+2)\n",
    "print(6*2)\n",
    "print(6/2) # otomatis jadi float\n",
    "print(6**2) # pangkat\n",
    "print(5%3) # sisa bagi"
   ]
  },
  {
   "cell_type": "markdown",
   "metadata": {},
   "source": [
    "## input\n",
    "\n",
    "input data dari pengguna"
   ]
  },
  {
   "cell_type": "code",
   "execution_count": 79,
   "metadata": {},
   "outputs": [
    {
     "name": "stdout",
     "output_type": "stream",
     "text": [
      "silahkan masukkan nama :\n",
      "halo ayaka, selamat datang\n"
     ]
    }
   ],
   "source": [
    "print(\"silahkan masukkan nama :\")\n",
    "nama = input()\n",
    "print(f\"halo {nama}, selamat datang\")"
   ]
  }
 ],
 "metadata": {
  "interpreter": {
   "hash": "b9a4ce8203be6451c9e245250f76c9e2ec96546a462dcf810fde9b25f5db38cf"
  },
  "kernelspec": {
   "display_name": "Python 3.9.10 64-bit",
   "language": "python",
   "name": "python3"
  },
  "language_info": {
   "codemirror_mode": {
    "name": "ipython",
    "version": 3
   },
   "file_extension": ".py",
   "mimetype": "text/x-python",
   "name": "python",
   "nbconvert_exporter": "python",
   "pygments_lexer": "ipython3",
   "version": "3.9.13"
  },
  "orig_nbformat": 4
 },
 "nbformat": 4,
 "nbformat_minor": 2
}

{
 "cells": [
  {
   "cell_type": "markdown",
   "metadata": {},
   "source": [
    "# tuple"
   ]
  },
  {
   "cell_type": "markdown",
   "metadata": {},
   "source": [
    "Python Collections (Arrays)\n",
    "\n",
    "There are four collection data types in the Python programming language:\n",
    "\n",
    "- **List** is a collection which is ordered and changeable. Allows duplicate members.\n",
    "- **Tuple** is a collection which is ordered and **unchangeable**. Allows duplicate members.\n",
    "- **Set** is a collection which is unordered, unchangeable**, and unindexed. No duplicate members.\n",
    "- **Dictionary** is a collection which is ordered** and changeable. No duplicate members.\n",
    "\n",
    "> **Set items are unchangeable, but you can remove and/or add items whenever you like.\n",
    "\n",
    "> **As of Python version 3.7, dictionaries are ordered. In Python 3.6 and earlier, dictionaries are unordered."
   ]
  },
  {
   "cell_type": "markdown",
   "metadata": {},
   "source": [
    "Tuple like a List, but :\n",
    "\n",
    "- Once a tuple is created, you cannot change its values. Tuples are **unchangeable**, or **immutable** as it also is called.\n",
    "- But there is a workaround. You can **convert the tuple into a list**, change the list, and convert the list back into a tuple."
   ]
  },
  {
   "cell_type": "code",
   "execution_count": 15,
   "metadata": {},
   "outputs": [
    {
     "name": "stdout",
     "output_type": "stream",
     "text": [
      "(1, 2, 9)\n"
     ]
    }
   ],
   "source": [
    "# Convert the tuple into a list to be able to change it:\n",
    "x = (1,2,3)\n",
    "y = list(x)\n",
    "y[2] = 9\n",
    "x = tuple(y)\n",
    "print(x)"
   ]
  },
  {
   "cell_type": "markdown",
   "metadata": {},
   "source": [
    "## Unpack tuple"
   ]
  },
  {
   "cell_type": "markdown",
   "metadata": {},
   "source": [
    "Packing Tuple, but, in Python, we are also allowed to extract the values back into variables. This is called \"unpacking\":"
   ]
  },
  {
   "cell_type": "code",
   "execution_count": 16,
   "metadata": {},
   "outputs": [
    {
     "name": "stdout",
     "output_type": "stream",
     "text": [
      "apple\n",
      "banana\n",
      "cherry\n"
     ]
    }
   ],
   "source": [
    "fruits = (\"apple\", \"banana\", \"cherry\")\n",
    "\n",
    "(green, yellow, red) = fruits\n",
    "\n",
    "print(green)\n",
    "print(yellow)\n",
    "print(red)"
   ]
  },
  {
   "cell_type": "code",
   "execution_count": 17,
   "metadata": {},
   "outputs": [
    {
     "name": "stdout",
     "output_type": "stream",
     "text": [
      "<class 'str'>\n",
      "<class 'tuple'>\n"
     ]
    }
   ],
   "source": [
    "# add comma (,)\n",
    "x = (\"baka\")\n",
    "print(type(x))\n",
    "x = (\"baka\",)\n",
    "print(type(x))"
   ]
  },
  {
   "cell_type": "code",
   "execution_count": 18,
   "metadata": {},
   "outputs": [
    {
     "name": "stdout",
     "output_type": "stream",
     "text": [
      "(1, 2, 3)\n",
      "(1, 2, 3, 50, 60)\n"
     ]
    }
   ],
   "source": [
    "# join/merge tuples, just like list\n",
    "x = (1,2,3)\n",
    "print(x)\n",
    "x = x + (50,60)\n",
    "print(x)"
   ]
  },
  {
   "cell_type": "markdown",
   "metadata": {},
   "source": [
    "## Tuple methods"
   ]
  },
  {
   "cell_type": "markdown",
   "metadata": {},
   "source": [
    "| Method  | Description\n",
    "|:-:|-\n",
    "| count() | Returns the number of times a specified value occurs in a tuple\n",
    "| index() | Searches the tuple for a specified value and returns the position of where it was found"
   ]
  }
 ],
 "metadata": {
  "interpreter": {
   "hash": "b9a4ce8203be6451c9e245250f76c9e2ec96546a462dcf810fde9b25f5db38cf"
  },
  "kernelspec": {
   "display_name": "Python 3.9.13 64-bit",
   "language": "python",
   "name": "python3"
  },
  "language_info": {
   "codemirror_mode": {
    "name": "ipython",
    "version": 3
   },
   "file_extension": ".py",
   "mimetype": "text/x-python",
   "name": "python",
   "nbconvert_exporter": "python",
   "pygments_lexer": "ipython3",
   "version": "3.9.13"
  },
  "orig_nbformat": 4
 },
 "nbformat": 4,
 "nbformat_minor": 2
}

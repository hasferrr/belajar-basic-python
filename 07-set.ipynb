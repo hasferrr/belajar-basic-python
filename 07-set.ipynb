{
 "cells": [
  {
   "cell_type": "markdown",
   "metadata": {},
   "source": [
    "# set\n",
    "\n",
    "Python Collections (Arrays)\n",
    "\n",
    "There are four collection data types in the Python programming language:\n",
    "\n",
    "- **List** is a collection which is ordered and changeable. Allows duplicate members.\n",
    "- **Tuple** is a collection which is ordered and unchangeable. Allows duplicate members.\n",
    "- **Set** is a collection which is **unordered**, **unchangeable**, and **unindexed**. ***No duplicate*** members.\n",
    "- **Dictionary** is a collection which is ordered** and changeable. No duplicate members.\n",
    "\n",
    "> **Set items are unchangeable, but you can remove and/or add items whenever you like.\n",
    "\n",
    "> **As of Python version 3.7, dictionaries are ordered. In Python 3.6 and earlier, dictionaries are unordered."
   ]
  },
  {
   "cell_type": "markdown",
   "metadata": {},
   "source": [
    "Unordered means that the items in a set do not have a defined order.\n",
    "\n",
    "Set items can appear in a different order every time you use them, and cannot be referred to by index or key."
   ]
  },
  {
   "cell_type": "code",
   "execution_count": 1,
   "metadata": {},
   "outputs": [
    {
     "name": "stdout",
     "output_type": "stream",
     "text": [
      "6\n",
      "<class 'set'>\n",
      "{0, 1, 2, 7, 8, 9}\n"
     ]
    }
   ],
   "source": [
    "x = {7,2,1,8,8,7,0,9}\n",
    "print(len(x))\n",
    "print(type(x))\n",
    "print(x)"
   ]
  },
  {
   "cell_type": "code",
   "execution_count": 2,
   "metadata": {},
   "outputs": [
    {
     "name": "stdout",
     "output_type": "stream",
     "text": [
      "{2, 5, 7, 8, 9}\n"
     ]
    }
   ],
   "source": [
    "x.add(5)\n",
    "x.remove(0)\n",
    "x.discard(1)\n",
    "x.discard(77) # Note: If the item to remove does not exist, remove() will raise an error, use discard() instead\n",
    "print(x)"
   ]
  },
  {
   "cell_type": "markdown",
   "metadata": {},
   "source": [
    "## Join"
   ]
  },
  {
   "cell_type": "code",
   "execution_count": 3,
   "metadata": {},
   "outputs": [
    {
     "name": "stdout",
     "output_type": "stream",
     "text": [
      "{'oho', 2, 5, 70, 7, 8, 9, 40, 'hehe', 'ayaka'}\n",
      "{'oho', 2, 5, 70, 7, 8, 9, 40, 'hehe', 'ayaka'}\n"
     ]
    }
   ],
   "source": [
    "# join/merge with any iterable object (tuples, lists, dictionaries etc.)\n",
    "\n",
    "x.update({40,'hehe',70})\n",
    "x.update(('ayaka',))\n",
    "x.update(['oho',2])\n",
    "print(x)\n",
    "\n",
    "y = x.union()\n",
    "print(y)"
   ]
  },
  {
   "cell_type": "code",
   "execution_count": 4,
   "metadata": {},
   "outputs": [
    {
     "name": "stdout",
     "output_type": "stream",
     "text": [
      "set()\n"
     ]
    }
   ],
   "source": [
    "x.clear()\n",
    "print(x)"
   ]
  },
  {
   "cell_type": "code",
   "execution_count": 5,
   "metadata": {},
   "outputs": [],
   "source": [
    "del x"
   ]
  },
  {
   "cell_type": "markdown",
   "metadata": {},
   "source": [
    "## Keep ONLY the Duplicates"
   ]
  },
  {
   "cell_type": "code",
   "execution_count": 6,
   "metadata": {},
   "outputs": [
    {
     "name": "stdout",
     "output_type": "stream",
     "text": [
      "{'oho', 2, 5, 70, 7, 8, 9, 40, 'hehe', 'ayaka'}\n",
      "{40, 2}\n",
      "{40, 2}\n"
     ]
    }
   ],
   "source": [
    "print(y)\n",
    "z = {2, 40, 881, 257}\n",
    "y.intersection_update(z)\n",
    "print(y)\n",
    "\n",
    "x = z.intersection(y)\n",
    "print(x)"
   ]
  },
  {
   "cell_type": "markdown",
   "metadata": {},
   "source": [
    "## Keep All, But NOT the Duplicates"
   ]
  },
  {
   "cell_type": "code",
   "execution_count": 8,
   "metadata": {},
   "outputs": [
    {
     "name": "stdout",
     "output_type": "stream",
     "text": [
      "{2, 90, 91}\n"
     ]
    }
   ],
   "source": [
    "z = {2, 40, 881, 257}\n",
    "y = {40, 881, 257, 90, 91}\n",
    "x = z.symmetric_difference(y)\n",
    "print(x)"
   ]
  },
  {
   "cell_type": "markdown",
   "metadata": {},
   "source": [
    "## Set Methods\n",
    "\n",
    "Python has a set of built-in methods that you can use on sets.\n",
    "| Method  | Description\n",
    "|:-:|-\n",
    "| add() | Adds an element to the set\n",
    "| clear() | Removes all the elements from the set\n",
    "| copy() | Returns a copy of the set\n",
    "| difference() | Returns a set containing the difference between two or more sets\n",
    "| difference_update() | Removes the items in this set that are also included in another, specified set\n",
    "| discard() | Remove the specified item\n",
    "| intersection() | Returns a set, that is the intersection of two other sets\n",
    "| intersection_update() | Removes the items in this set that are not present in other, specified set(s)\n",
    "| isdisjoint() | Returns whether two sets have a intersection or not\n",
    "| issubset() | Returns whether another set contains this set or not\n",
    "| issuperset() | Returns whether this set contains another set or not\n",
    "| pop() | Removes an element from the set\n",
    "| remove() | Removes the specified element\n",
    "| symmetric_difference() | Returns a set with the symmetric differences of two sets\n",
    "| symmetric_difference_update() | inserts the symmetric differences from this set and another\n",
    "| union() | Return a set containing the union of sets\n",
    "| update() | Update the set with the union of this set and others"
   ]
  }
 ],
 "metadata": {
  "interpreter": {
   "hash": "b9a4ce8203be6451c9e245250f76c9e2ec96546a462dcf810fde9b25f5db38cf"
  },
  "kernelspec": {
   "display_name": "Python 3.9.13 64-bit",
   "language": "python",
   "name": "python3"
  },
  "language_info": {
   "codemirror_mode": {
    "name": "ipython",
    "version": 3
   },
   "file_extension": ".py",
   "mimetype": "text/x-python",
   "name": "python",
   "nbconvert_exporter": "python",
   "pygments_lexer": "ipython3",
   "version": "3.9.13"
  },
  "orig_nbformat": 4
 },
 "nbformat": 4,
 "nbformat_minor": 2
}

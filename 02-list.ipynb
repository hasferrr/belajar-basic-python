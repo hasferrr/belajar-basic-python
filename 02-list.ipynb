{
 "cells": [
  {
   "cell_type": "markdown",
   "metadata": {},
   "source": [
    "# List"
   ]
  },
  {
   "cell_type": "code",
   "execution_count": 122,
   "metadata": {},
   "outputs": [
    {
     "name": "stdout",
     "output_type": "stream",
     "text": [
      "['apple', 'banana', 'cherry']\n",
      "yes\n"
     ]
    }
   ],
   "source": [
    "thislist = list((\"apple\", \"banana\", \"cherry\"))\n",
    "print(thislist)\n",
    "\n",
    "if \"apple\" in thislist:\n",
    "    print(\"yes\")"
   ]
  },
  {
   "cell_type": "code",
   "execution_count": 123,
   "metadata": {},
   "outputs": [
    {
     "name": "stdout",
     "output_type": "stream",
     "text": [
      "3\n"
     ]
    }
   ],
   "source": [
    "print(len(thislist))"
   ]
  },
  {
   "cell_type": "markdown",
   "metadata": {},
   "source": [
    "## Add list items"
   ]
  },
  {
   "cell_type": "code",
   "execution_count": 124,
   "metadata": {},
   "outputs": [
    {
     "name": "stdout",
     "output_type": "stream",
     "text": [
      "['lumine']\n",
      "['lumine', 'ayaka', 'baal', 'kokomi']\n"
     ]
    }
   ],
   "source": [
    "# menambahkan data ke list ---> .append()\n",
    "character_name = [\"lumine\"]\n",
    "print(character_name)\n",
    "character_name.append(\"ayaka\")\n",
    "character_name.append(\"baal\")\n",
    "character_name.append(\"kokomi\")\n",
    "print(character_name)"
   ]
  },
  {
   "cell_type": "code",
   "execution_count": 125,
   "metadata": {},
   "outputs": [
    {
     "name": "stdout",
     "output_type": "stream",
     "text": [
      "['apple', 'banana', 'watermelon', 'cherry']\n"
     ]
    }
   ],
   "source": [
    "# insert list ---> .insert()\n",
    "thislist = [\"apple\", \"banana\", \"cherry\"]\n",
    "thislist.insert(2, \"watermelon\")\n",
    "print(thislist)"
   ]
  },
  {
   "cell_type": "markdown",
   "metadata": {},
   "source": [
    "## Remove list"
   ]
  },
  {
   "cell_type": "code",
   "execution_count": 126,
   "metadata": {},
   "outputs": [
    {
     "name": "stdout",
     "output_type": "stream",
     "text": [
      "['ayaka', 'ayato']\n"
     ]
    }
   ],
   "source": [
    "# .remove()\n",
    "# .pop()\n",
    "\n",
    "character_name=['lumine', 'ayaka', 'ayato']\n",
    "character_name.remove('lumine')\n",
    "print(character_name)"
   ]
  },
  {
   "cell_type": "code",
   "execution_count": 127,
   "metadata": {},
   "outputs": [
    {
     "name": "stdout",
     "output_type": "stream",
     "text": [
      "['ayaka', 'ayato']\n",
      "['ayaka', 'ayato']\n",
      "['ayaka', 'ayato']\n"
     ]
    }
   ],
   "source": [
    "character_name=['lumine', 'ayaka', 'ayato']\n",
    "character_name.remove(character_name[0])\n",
    "print(character_name)\n",
    "\n",
    "character_name=['lumine', 'ayaka', 'ayato']\n",
    "character_name.pop(0)\n",
    "print(character_name)\n",
    "\n",
    "character_name=['lumine', 'ayaka', 'ayato']\n",
    "del character_name[0]\n",
    "print(character_name)"
   ]
  },
  {
   "cell_type": "code",
   "execution_count": 128,
   "metadata": {},
   "outputs": [
    {
     "name": "stdout",
     "output_type": "stream",
     "text": [
      "[]\n"
     ]
    }
   ],
   "source": [
    "the_list = ['a', 'b', 'c']\n",
    "the_list.clear()\n",
    "print(the_list)\n",
    "\n",
    "the_list = ['a', 'b', 'c']\n",
    "del the_list # the_list dissapear, cannot print"
   ]
  },
  {
   "cell_type": "markdown",
   "metadata": {},
   "source": [
    "## Extend"
   ]
  },
  {
   "cell_type": "code",
   "execution_count": 129,
   "metadata": {},
   "outputs": [
    {
     "name": "stdout",
     "output_type": "stream",
     "text": [
      "[1, 2, 3, 7, 8, 9]\n"
     ]
    }
   ],
   "source": [
    "var_a = [1,2,3]\n",
    "var_b = [7,8,9]\n",
    "var_a.extend(var_b)\n",
    "print(var_a)"
   ]
  },
  {
   "cell_type": "code",
   "execution_count": 130,
   "metadata": {},
   "outputs": [
    {
     "name": "stdout",
     "output_type": "stream",
     "text": [
      "[1, 2, 3, 4]\n"
     ]
    }
   ],
   "source": [
    "a = [1,2]\n",
    "b = [3,4]\n",
    "c = a + b\n",
    "print(c)"
   ]
  },
  {
   "cell_type": "markdown",
   "metadata": {},
   "source": [
    "## List indexing and splitting\n",
    "\n",
    "![list](https://static.javatpoint.com/python/images/lists-indexing-and-splitting.png)"
   ]
  },
  {
   "cell_type": "code",
   "execution_count": 131,
   "metadata": {},
   "outputs": [
    {
     "name": "stdout",
     "output_type": "stream",
     "text": [
      "lumine\n",
      "ayaka\n",
      "kokomi\n",
      "['lumine', 'ayaka', 'baal']\n",
      "['ayaka', 'baal']\n"
     ]
    }
   ],
   "source": [
    "# mengakses data dari list ---> var[index]\n",
    "character_name = ['lumine', 'ayaka', 'baal', 'kokomi']\n",
    "print(character_name[0])\n",
    "print(character_name[1])\n",
    "print(character_name[-1])\n",
    "print(character_name[0:3])\n",
    "print(character_name[-3:3])"
   ]
  },
  {
   "cell_type": "code",
   "execution_count": 132,
   "metadata": {},
   "outputs": [
    {
     "name": "stdout",
     "output_type": "stream",
     "text": [
      "['lumine', 'ayaka', 'baal', 'kokomi']\n",
      "['aether', 'ayato', 'yae', 'kokomi']\n"
     ]
    }
   ],
   "source": [
    "# mengubah data ---> var[index] = ___\n",
    "character_name=['lumine', 'ayaka', 'baal', 'kokomi']\n",
    "\n",
    "print(character_name)\n",
    "character_name[0] = 'aether'\n",
    "character_name[1:3] = ['ayato','yae']\n",
    "print(character_name)\n"
   ]
  },
  {
   "cell_type": "markdown",
   "metadata": {},
   "source": [
    "## Sort"
   ]
  },
  {
   "cell_type": "code",
   "execution_count": 133,
   "metadata": {},
   "outputs": [
    {
     "name": "stdout",
     "output_type": "stream",
     "text": [
      "[2, 4, 5, 7, 9]\n",
      "[9, 7, 5, 4, 2]\n"
     ]
    }
   ],
   "source": [
    "a = [5,2,7,4,9]\n",
    "a.sort()\n",
    "print(a)\n",
    "\n",
    "a = [5,2,7,4,9]\n",
    "a.sort(reverse=True)\n",
    "print(a)"
   ]
  },
  {
   "cell_type": "markdown",
   "metadata": {},
   "source": [
    "## List Methods\n",
    "\n",
    "Python has a set of built-in methods that you can use on lists."
   ]
  },
  {
   "cell_type": "markdown",
   "metadata": {},
   "source": [
    "| Method    | Description\n",
    "| :-------: | ------------------------------------------------------------------------------\n",
    "| append()  | Adds an element at the end of the list\n",
    "| clear()   | Removes all the elements from the list\n",
    "| copy()    | Returns a copy of the list\n",
    "| count()   | Returns the number of elements with the specified value\n",
    "| extend()  | Add the elements of a list (or any iterable), to the end of the current list\n",
    "| index()   | Returns the index of the first element with the specified value\n",
    "| insert()  | Adds an element at the specified position\n",
    "| pop()     | Removes the element at the specified position\n",
    "| remove()  | Removes the item with the specified value\n",
    "| reverse() | Reverses the order of the list\n",
    "| sort()    | Sorts the list"
   ]
  },
  {
   "cell_type": "markdown",
   "metadata": {},
   "source": [
    "[Python w3schools](https://www.w3schools.com/python/)"
   ]
  }
 ],
 "metadata": {
  "interpreter": {
   "hash": "b9a4ce8203be6451c9e245250f76c9e2ec96546a462dcf810fde9b25f5db38cf"
  },
  "kernelspec": {
   "display_name": "Python 3.9.10 64-bit",
   "language": "python",
   "name": "python3"
  },
  "language_info": {
   "codemirror_mode": {
    "name": "ipython",
    "version": 3
   },
   "file_extension": ".py",
   "mimetype": "text/x-python",
   "name": "python",
   "nbconvert_exporter": "python",
   "pygments_lexer": "ipython3",
   "version": "3.9.13"
  },
  "orig_nbformat": 4
 },
 "nbformat": 4,
 "nbformat_minor": 2
}

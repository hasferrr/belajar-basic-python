{
 "cells": [
  {
   "cell_type": "markdown",
   "metadata": {},
   "source": [
    "# Useful template for py\n",
    "\n",
    "templates here"
   ]
  },
  {
   "cell_type": "markdown",
   "metadata": {},
   "source": [
    "## Pause program\n",
    "\n",
    "So, I found this to work very well in my coding endeavors. I simply created a function at the very beginning of my program, and now I can use the `pause()` function whenever I need to just as if I was writing a batch file. For example, in a program such as this:\n",
    "\n",
    "<https://stackoverflow.com/questions/11552320/correct-way-to-pause-a-python-program>"
   ]
  },
  {
   "cell_type": "code",
   "execution_count": 1,
   "metadata": {},
   "outputs": [],
   "source": [
    "def pause():\n",
    "    programPause = input(\"Press the <ENTER> key to continue...\")"
   ]
  },
  {
   "cell_type": "markdown",
   "metadata": {},
   "source": [
    "Using Python's `time.sleep()`\n",
    "\n",
    "<https://www.pythoncentral.io/pythons-time-sleep-pause-wait-sleep-stop-your-code/>"
   ]
  },
  {
   "cell_type": "code",
   "execution_count": 2,
   "metadata": {},
   "outputs": [
    {
     "name": "stdout",
     "output_type": "stream",
     "text": [
      "hello\n",
      "world\n"
     ]
    }
   ],
   "source": [
    "import time\n",
    "\n",
    "print('hello')\n",
    "time.sleep(3)       # pause for 3 seconds\n",
    "print('world')"
   ]
  }
 ],
 "metadata": {
  "kernelspec": {
   "display_name": "Python 3.9.13 64-bit",
   "language": "python",
   "name": "python3"
  },
  "language_info": {
   "codemirror_mode": {
    "name": "ipython",
    "version": 3
   },
   "file_extension": ".py",
   "mimetype": "text/x-python",
   "name": "python",
   "nbconvert_exporter": "python",
   "pygments_lexer": "ipython3",
   "version": "3.9.13"
  },
  "orig_nbformat": 4,
  "vscode": {
   "interpreter": {
    "hash": "b9a4ce8203be6451c9e245250f76c9e2ec96546a462dcf810fde9b25f5db38cf"
   }
  }
 },
 "nbformat": 4,
 "nbformat_minor": 2
}

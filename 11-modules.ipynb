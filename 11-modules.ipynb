{
 "cells": [
  {
   "cell_type": "markdown",
   "metadata": {},
   "source": [
    "# Modules\n",
    "\n",
    "importing function from other file python.py, use:\n",
    "\n",
    "```py\n",
    "import file_python     # import all function from the file_python file\n",
    "from file import function       # import specific function from the file file\n",
    "from file import function_1, function_2\n",
    "\n",
    "from file import function_3 as fc3\n",
    "```\n",
    "\n",
    "misalnya, mengimport fungsi dari file [function.py](function.py) :"
   ]
  },
  {
   "cell_type": "code",
   "execution_count": 1,
   "metadata": {},
   "outputs": [
    {
     "name": "stdout",
     "output_type": "stream",
     "text": [
      "Nilai rata-rata dari (1, 2, 3, 4, 5, 6, 7, 8, 9, 10) adalah 5.5\n"
     ]
    }
   ],
   "source": [
    "from function import rata2 as rt2\n",
    "\n",
    "rt2(1,2,3,4,5,6,7,8,9,10)"
   ]
  },
  {
   "cell_type": "code",
   "execution_count": 2,
   "metadata": {},
   "outputs": [
    {
     "name": "stdout",
     "output_type": "stream",
     "text": [
      "Total dari (1, 2, 3, 4, 5) adalah 15\n"
     ]
    }
   ],
   "source": [
    "import function\n",
    "\n",
    "function.total(1,2,3,4,5)"
   ]
  }
 ],
 "metadata": {
  "interpreter": {
   "hash": "b9a4ce8203be6451c9e245250f76c9e2ec96546a462dcf810fde9b25f5db38cf"
  },
  "kernelspec": {
   "display_name": "Python 3.9.13 64-bit",
   "language": "python",
   "name": "python3"
  },
  "language_info": {
   "codemirror_mode": {
    "name": "ipython",
    "version": 3
   },
   "file_extension": ".py",
   "mimetype": "text/x-python",
   "name": "python",
   "nbconvert_exporter": "python",
   "pygments_lexer": "ipython3",
   "version": "3.9.13"
  },
  "orig_nbformat": 4
 },
 "nbformat": 4,
 "nbformat_minor": 2
}

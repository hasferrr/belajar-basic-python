{
 "cells": [
  {
   "cell_type": "markdown",
   "metadata": {},
   "source": [
    "# Try and Except (Python Error Handling)\n",
    "\n",
    "`try:` dan `except:` digunakan untuk mencoba suatu code block apabila eksekusi code block itu mengalami error, akan dialihkan ke code block yang lain"
   ]
  },
  {
   "cell_type": "code",
   "execution_count": 1,
   "metadata": {},
   "outputs": [
    {
     "ename": "ValueError",
     "evalue": "invalid literal for int() with base 10: 'adsf'",
     "output_type": "error",
     "traceback": [
      "\u001b[1;31m---------------------------------------------------------------------------\u001b[0m",
      "\u001b[1;31mValueError\u001b[0m                                Traceback (most recent call last)",
      "\u001b[1;32md:\\Documents\\Documents-3\\Python\\belajar-basic-python\\14-try-and-except.ipynb Cell 2'\u001b[0m in \u001b[0;36m<cell line: 3>\u001b[1;34m()\u001b[0m\n\u001b[0;32m      <a href='vscode-notebook-cell:/d%3A/Documents/Documents-3/Python/belajar-basic-python/14-try-and-except.ipynb#ch0000001?line=0'>1</a>\u001b[0m id_number \u001b[39m=\u001b[39m \u001b[39minput\u001b[39m(\u001b[39m'\u001b[39m\u001b[39mPlease type your id number : \u001b[39m\u001b[39m'\u001b[39m)\n\u001b[0;32m      <a href='vscode-notebook-cell:/d%3A/Documents/Documents-3/Python/belajar-basic-python/14-try-and-except.ipynb#ch0000001?line=1'>2</a>\u001b[0m \u001b[39m# if iam trying to intput 'asdf'\u001b[39;00m\n\u001b[1;32m----> <a href='vscode-notebook-cell:/d%3A/Documents/Documents-3/Python/belajar-basic-python/14-try-and-except.ipynb#ch0000001?line=2'>3</a>\u001b[0m \u001b[39mprint\u001b[39m(\u001b[39mint\u001b[39;49m(id_number))\n",
      "\u001b[1;31mValueError\u001b[0m: invalid literal for int() with base 10: 'adsf'"
     ]
    }
   ],
   "source": [
    "id_number = input('Please type your id number : ')\n",
    "# if iam trying to intput 'asdf'\n",
    "print(int(id_number))"
   ]
  },
  {
   "cell_type": "code",
   "execution_count": 2,
   "metadata": {},
   "outputs": [
    {
     "name": "stdout",
     "output_type": "stream",
     "text": [
      "Invalid id number\n"
     ]
    }
   ],
   "source": [
    "# if iam trying to intput 'asdf'\n",
    "id_number = input('Please type your id number : ')\n",
    "try:\n",
    "    print('Your id number is :',int(id_number))\n",
    "except:\n",
    "    print('Invalid id number')"
   ]
  },
  {
   "cell_type": "code",
   "execution_count": 3,
   "metadata": {},
   "outputs": [
    {
     "name": "stdout",
     "output_type": "stream",
     "text": [
      "Your id number is : 22\n"
     ]
    }
   ],
   "source": [
    "# if iam trying to intput '22'\n",
    "id_number = input('Please type your id number : ')\n",
    "try:\n",
    "    print('Your id number is :',int(id_number))\n",
    "except:\n",
    "    print('Invalid id number')"
   ]
  },
  {
   "cell_type": "code",
   "execution_count": 6,
   "metadata": {},
   "outputs": [
    {
     "name": "stdout",
     "output_type": "stream",
     "text": [
      "Invalid id number, please try again\n",
      "Invalid id number, please try again\n",
      "Your id number is : 23\n"
     ]
    }
   ],
   "source": [
    "while True:\n",
    "    id_number = input('Please type your id number : ')\n",
    "    try:\n",
    "        print('Your id number is :',int(id_number))\n",
    "        break\n",
    "    except:\n",
    "        print('Invalid id number, please try again')"
   ]
  }
 ],
 "metadata": {
  "kernelspec": {
   "display_name": "Python 3.9.13 64-bit",
   "language": "python",
   "name": "python3"
  },
  "language_info": {
   "codemirror_mode": {
    "name": "ipython",
    "version": 3
   },
   "file_extension": ".py",
   "mimetype": "text/x-python",
   "name": "python",
   "nbconvert_exporter": "python",
   "pygments_lexer": "ipython3",
   "version": "3.9.13"
  },
  "orig_nbformat": 4,
  "vscode": {
   "interpreter": {
    "hash": "b9a4ce8203be6451c9e245250f76c9e2ec96546a462dcf810fde9b25f5db38cf"
   }
  }
 },
 "nbformat": 4,
 "nbformat_minor": 2
}

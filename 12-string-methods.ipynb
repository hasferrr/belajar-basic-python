{
 "cells": [
  {
   "cell_type": "markdown",
   "metadata": {},
   "source": [
    "# String Methods\n",
    "\n",
    "- [Buit-in Types](https://docs.python.org/3.9/library/stdtypes.html)\n",
    "- [String Methods](https://docs.python.org/3.9/library/stdtypes.html#string-methods)"
   ]
  },
  {
   "cell_type": "markdown",
   "metadata": {},
   "source": [
    "## Change case"
   ]
  },
  {
   "cell_type": "code",
   "execution_count": 29,
   "metadata": {},
   "outputs": [
    {
     "name": "stdout",
     "output_type": "stream",
     "text": [
      "Hello World\n",
      "Hello world\n",
      "HELLO WORLD\n",
      "hello world\n"
     ]
    }
   ],
   "source": [
    "hello = 'hello world'\n",
    "\n",
    "print(hello.title())\n",
    "print(hello.capitalize())\n",
    "print(hello.upper())\n",
    "print(hello.lower())"
   ]
  },
  {
   "cell_type": "code",
   "execution_count": 30,
   "metadata": {},
   "outputs": [
    {
     "name": "stdout",
     "output_type": "stream",
     "text": [
      "['hello', 'world']\n",
      "['hey', 'hey', 'shinomiya', 'san']\n",
      "['hey', 'hey', 'shinomiya', 'san']\n"
     ]
    }
   ],
   "source": [
    "# split into list\n",
    "print(hello.split())\n",
    "print('hey.hey.shinomiya.san'.split('.'))\n",
    "print('hey-hey-shinomiya-san'.split('-'))"
   ]
  },
  {
   "cell_type": "code",
   "execution_count": 31,
   "metadata": {},
   "outputs": [
    {
     "name": "stdout",
     "output_type": "stream",
     "text": [
      "hello    world\n"
     ]
    }
   ],
   "source": [
    "# remove spaces before and after the wold\n",
    "print('     hello    world  '.strip())      "
   ]
  },
  {
   "cell_type": "markdown",
   "metadata": {},
   "source": [
    "## Find letter(s)"
   ]
  },
  {
   "cell_type": "code",
   "execution_count": 32,
   "metadata": {},
   "outputs": [
    {
     "name": "stdout",
     "output_type": "stream",
     "text": [
      "0\n",
      "1\n",
      "3\n",
      "5\n"
     ]
    }
   ],
   "source": [
    "var_a = 'python'        # return as index\n",
    "print(var_a.find('p'))\n",
    "print(var_a.find('y'))\n",
    "print(var_a.find('hon'))\n",
    "print(var_a.find('n'))"
   ]
  },
  {
   "cell_type": "code",
   "execution_count": 33,
   "metadata": {},
   "outputs": [
    {
     "name": "stdout",
     "output_type": "stream",
     "text": [
      "-1\n",
      "0\n"
     ]
    }
   ],
   "source": [
    "print('Python'.find('p'))      # Return -1 if sub is not found\n",
    "print('Python'.find('P'))      # case sensitive"
   ]
  },
  {
   "cell_type": "code",
   "execution_count": 34,
   "metadata": {},
   "outputs": [
    {
     "name": "stdout",
     "output_type": "stream",
     "text": [
      "True\n",
      "False\n"
     ]
    }
   ],
   "source": [
    "print('Py' in 'Python')\n",
    "print('sd' in 'Python')"
   ]
  }
 ],
 "metadata": {
  "interpreter": {
   "hash": "b9a4ce8203be6451c9e245250f76c9e2ec96546a462dcf810fde9b25f5db38cf"
  },
  "kernelspec": {
   "display_name": "Python 3.9.13 64-bit",
   "language": "python",
   "name": "python3"
  },
  "language_info": {
   "codemirror_mode": {
    "name": "ipython",
    "version": 3
   },
   "file_extension": ".py",
   "mimetype": "text/x-python",
   "name": "python",
   "nbconvert_exporter": "python",
   "pygments_lexer": "ipython3",
   "version": "3.9.13"
  },
  "orig_nbformat": 4
 },
 "nbformat": 4,
 "nbformat_minor": 2
}

{
 "cells": [
  {
   "cell_type": "markdown",
   "metadata": {},
   "source": [
    "# String Methods\n",
    "\n",
    "- [Buit-in Types](https://docs.python.org/3.9/library/stdtypes.html)\n",
    "- [String Methods](https://docs.python.org/3.9/library/stdtypes.html#string-methods)"
   ]
  },
  {
   "cell_type": "markdown",
   "metadata": {},
   "source": [
    "## Change case"
   ]
  },
  {
   "cell_type": "code",
   "execution_count": 57,
   "metadata": {},
   "outputs": [
    {
     "name": "stdout",
     "output_type": "stream",
     "text": [
      "Hello World\n",
      "Hello world\n",
      "HELLO WORLD\n",
      "hello world\n"
     ]
    }
   ],
   "source": [
    "hello = 'hello world'\n",
    "\n",
    "print(hello.title())\n",
    "print(hello.capitalize())\n",
    "print(hello.upper())\n",
    "print(hello.lower())"
   ]
  },
  {
   "cell_type": "code",
   "execution_count": 58,
   "metadata": {},
   "outputs": [
    {
     "name": "stdout",
     "output_type": "stream",
     "text": [
      "['hello', 'world']\n",
      "['hey', 'hey', 'shinomiya', 'san']\n",
      "['hey', 'hey', 'shinomiya', 'san']\n"
     ]
    }
   ],
   "source": [
    "# split into list\n",
    "print(hello.split())\n",
    "print('hey.hey.shinomiya.san'.split('.'))\n",
    "print('hey-hey-shinomiya-san'.split('-'))"
   ]
  },
  {
   "cell_type": "code",
   "execution_count": 59,
   "metadata": {},
   "outputs": [
    {
     "name": "stdout",
     "output_type": "stream",
     "text": [
      "hello    world\n"
     ]
    }
   ],
   "source": [
    "# remove spaces before and after the wold\n",
    "print('     hello    world  '.strip())      "
   ]
  },
  {
   "cell_type": "markdown",
   "metadata": {},
   "source": [
    "## Find letter(s)"
   ]
  },
  {
   "cell_type": "code",
   "execution_count": 60,
   "metadata": {},
   "outputs": [
    {
     "name": "stdout",
     "output_type": "stream",
     "text": [
      "0\n",
      "1\n",
      "3\n",
      "5\n"
     ]
    }
   ],
   "source": [
    "var_a = 'python'        # return as index\n",
    "print(var_a.find('p'))\n",
    "print(var_a.find('y'))\n",
    "print(var_a.find('hon'))\n",
    "print(var_a.find('n'))"
   ]
  },
  {
   "cell_type": "code",
   "execution_count": 61,
   "metadata": {},
   "outputs": [
    {
     "name": "stdout",
     "output_type": "stream",
     "text": [
      "-1\n",
      "0\n"
     ]
    }
   ],
   "source": [
    "print('Python'.find('p'))      # Return -1 if sub is not found\n",
    "print('Python'.find('P'))      # case sensitive"
   ]
  },
  {
   "cell_type": "code",
   "execution_count": 62,
   "metadata": {},
   "outputs": [
    {
     "name": "stdout",
     "output_type": "stream",
     "text": [
      "True\n",
      "False\n"
     ]
    }
   ],
   "source": [
    "print('Py' in 'Python')\n",
    "print('sd' in 'Python')"
   ]
  },
  {
   "cell_type": "markdown",
   "metadata": {},
   "source": [
    "## Slicing"
   ]
  },
  {
   "cell_type": "code",
   "execution_count": 63,
   "metadata": {},
   "outputs": [
    {
     "name": "stdout",
     "output_type": "stream",
     "text": [
      "abc\n",
      "g\n"
     ]
    }
   ],
   "source": [
    "letters = 'abcdefg'\n",
    "print(letters[0:3])\n",
    "print(letters[-1])"
   ]
  },
  {
   "cell_type": "markdown",
   "metadata": {},
   "source": [
    "## Replace\n",
    "\n",
    "```py\n",
    "str.replace(old, new[, count])\n",
    "str.removeprefix(prefix, /)\n",
    "str.removesuffix(suffix, /)\n",
    "\n",
    "# inside () in str._____.('string') must be string\n",
    "```"
   ]
  },
  {
   "cell_type": "code",
   "execution_count": 64,
   "metadata": {},
   "outputs": [
    {
     "name": "stdout",
     "output_type": "stream",
     "text": [
      "TheTestCaseThe\n"
     ]
    }
   ],
   "source": [
    "print('BaseTestCaseBase'.replace('Base', 'The'))"
   ]
  },
  {
   "cell_type": "code",
   "execution_count": 65,
   "metadata": {},
   "outputs": [
    {
     "name": "stdout",
     "output_type": "stream",
     "text": [
      "TestCase\n",
      "BaseTest\n"
     ]
    }
   ],
   "source": [
    "print('BaseTestCase'.removeprefix('Base'))\n",
    "print('BaseTestCase'.removesuffix('Case'))"
   ]
  },
  {
   "cell_type": "code",
   "execution_count": 66,
   "metadata": {},
   "outputs": [
    {
     "name": "stdout",
     "output_type": "stream",
     "text": [
      "Basic\n",
      "For Loop\n",
      "While Loop\n",
      "Loop Others\n",
      "List\n",
      "Tuple\n",
      "Set\n",
      "Dictionaries\n",
      "Function\n",
      "Function Agane\n",
      "Modules\n",
      "String Methods\n",
      "Other Templates\n"
     ]
    }
   ],
   "source": [
    "ipynb_01 = '01-basic.ipynb'\n",
    "ipynb_03 = '03-for-loop.ipynb'\n",
    "ipynb_04 = '04-while-loop.ipynb'\n",
    "ipynb_05 = '05-loop-others.ipynb'\n",
    "ipynb_02 = '02-list.ipynb'\n",
    "ipynb_06 = '06-tuple.ipynb'\n",
    "ipynb_07 = '07-set.ipynb'\n",
    "ipynb_09 = '09-dictionaries.ipynb'\n",
    "ipynb_08 = '08-function.ipynb'\n",
    "ipynb_10 = '10-function-agane.ipynb'\n",
    "ipynb_11 = '11-modules.ipynb'\n",
    "ipynb_12 = '12-string-methods.ipynb'\n",
    "ipynb_13 = '13-other-templates.ipynb'\n",
    "\n",
    "print(ipynb_01.removeprefix(ipynb_01[0:3]).removesuffix('.ipynb').replace('-',' ').title())\n",
    "print(ipynb_03.removeprefix(ipynb_03[0:3]).removesuffix('.ipynb').replace('-',' ').title())\n",
    "print(ipynb_04.removeprefix(ipynb_04[0:3]).removesuffix('.ipynb').replace('-',' ').title())\n",
    "print(ipynb_05.removeprefix(ipynb_05[0:3]).removesuffix('.ipynb').replace('-',' ').title())\n",
    "print(ipynb_02.removeprefix(ipynb_02[0:3]).removesuffix('.ipynb').replace('-',' ').title())\n",
    "print(ipynb_06.removeprefix(ipynb_06[0:3]).removesuffix('.ipynb').replace('-',' ').title())\n",
    "print(ipynb_07.removeprefix(ipynb_07[0:3]).removesuffix('.ipynb').replace('-',' ').title())\n",
    "print(ipynb_09.removeprefix(ipynb_09[0:3]).removesuffix('.ipynb').replace('-',' ').title())\n",
    "print(ipynb_08.removeprefix(ipynb_08[0:3]).removesuffix('.ipynb').replace('-',' ').title())\n",
    "print(ipynb_10.removeprefix(ipynb_10[0:3]).removesuffix('.ipynb').replace('-',' ').title())\n",
    "print(ipynb_11.removeprefix(ipynb_11[0:3]).removesuffix('.ipynb').replace('-',' ').title())\n",
    "print(ipynb_12.removeprefix(ipynb_12[0:3]).removesuffix('.ipynb').replace('-',' ').title())\n",
    "print(ipynb_13.removeprefix(ipynb_13[0:3]).removesuffix('.ipynb').replace('-',' ').title())"
   ]
  }
 ],
 "metadata": {
  "interpreter": {
   "hash": "b9a4ce8203be6451c9e245250f76c9e2ec96546a462dcf810fde9b25f5db38cf"
  },
  "kernelspec": {
   "display_name": "Python 3.9.13 64-bit",
   "language": "python",
   "name": "python3"
  },
  "language_info": {
   "codemirror_mode": {
    "name": "ipython",
    "version": 3
   },
   "file_extension": ".py",
   "mimetype": "text/x-python",
   "name": "python",
   "nbconvert_exporter": "python",
   "pygments_lexer": "ipython3",
   "version": "3.9.13"
  },
  "orig_nbformat": 4
 },
 "nbformat": 4,
 "nbformat_minor": 2
}

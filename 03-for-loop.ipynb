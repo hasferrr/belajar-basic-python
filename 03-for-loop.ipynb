{
 "cells": [
  {
   "cell_type": "markdown",
   "metadata": {},
   "source": [
    "# catatan 3"
   ]
  },
  {
   "cell_type": "markdown",
   "metadata": {},
   "source": [
    "## For loop\n",
    "\n",
    "The for loop in Python is used to iterate the statements or a part of the program several times. It is frequently used to traverse the data structures like list, tuple, or dictionary.\n",
    "\n",
    "```py\n",
    "for iterating_var in sequence:\n",
    "    statement(s)\n",
    "```"
   ]
  },
  {
   "cell_type": "code",
   "execution_count": 26,
   "metadata": {},
   "outputs": [
    {
     "name": "stdout",
     "output_type": "stream",
     "text": [
      "lumine\n",
      "ganyu\n",
      "ayaka\n",
      "venti\n",
      "mona\n",
      "rosaria\n"
     ]
    }
   ],
   "source": [
    "char = ['lumine', 'ganyu', 'ayaka', 'venti', 'mona', 'rosaria']\n",
    "for name in char:\n",
    "    print(name)"
   ]
  },
  {
   "cell_type": "markdown",
   "metadata": {},
   "source": [
    "## Range"
   ]
  },
  {
   "cell_type": "code",
   "execution_count": 27,
   "metadata": {},
   "outputs": [
    {
     "name": "stdout",
     "output_type": "stream",
     "text": [
      "0\n",
      "1\n",
      "2\n",
      "3\n",
      "4\n",
      "5\n",
      "6\n",
      "7\n",
      "8\n",
      "9\n",
      "10\n"
     ]
    }
   ],
   "source": [
    "number = range(11)\n",
    "for x in number:\n",
    "    print(x)"
   ]
  },
  {
   "cell_type": "code",
   "execution_count": 28,
   "metadata": {},
   "outputs": [
    {
     "name": "stdout",
     "output_type": "stream",
     "text": [
      "0\n",
      "4\n",
      "8\n",
      "12\n",
      "16\n"
     ]
    }
   ],
   "source": [
    "# range(start,stop,step)\n",
    "for x in range(0,20,4):\n",
    "    print(x)"
   ]
  },
  {
   "cell_type": "markdown",
   "metadata": {},
   "source": [
    "## Else in for loop\n",
    "\n",
    "The else keyword in a for loop specifies a block of code to be executed when the loop is finished"
   ]
  },
  {
   "cell_type": "code",
   "execution_count": 29,
   "metadata": {},
   "outputs": [
    {
     "name": "stdout",
     "output_type": "stream",
     "text": [
      "0\n",
      "1\n",
      "2\n",
      "3\n",
      "4\n",
      "5\n",
      "Finally finished!\n"
     ]
    }
   ],
   "source": [
    "for x in range(6):\n",
    "  print(x)\n",
    "else:\n",
    "  print(\"Finally finished!\")"
   ]
  },
  {
   "cell_type": "code",
   "execution_count": 63,
   "metadata": {},
   "outputs": [
    {
     "name": "stdout",
     "output_type": "stream",
     "text": [
      "Berapa banyak data?\n",
      "\n",
      "Data ke-1\n",
      "Masukkan nama :\n",
      "Masukkan umur :\n",
      "\n",
      "Data ke-2\n",
      "Masukkan nama :\n",
      "Masukkan umur :\n",
      "\n",
      "Recap nama dan umur\n",
      "\n",
      "Nama : ayaka\n",
      "Umur : 19\n",
      "\n",
      "Nama : lumine\n",
      "Umur : 15\n",
      "\n",
      "Done!\n"
     ]
    }
   ],
   "source": [
    "print(\"Berapa banyak data?\")\n",
    "banyak_data = int(input(\"Berapa banyak data?\"))\n",
    "print()\n",
    "\n",
    "nama = []\n",
    "umur = []\n",
    "\n",
    "for x in range(banyak_data):\n",
    "    print(f\"Data ke-{x+1}\")\n",
    "    \n",
    "    print(\"Masukkan nama :\")\n",
    "    input_nama = input(\"nama\")\n",
    "\n",
    "    print(\"Masukkan umur :\")\n",
    "    input_umur = int(input(\"umur\"))\n",
    "\n",
    "    nama.append(input_nama)\n",
    "    umur.append(input_umur)\n",
    "    print()\n",
    "\n",
    "print('Recap nama dan umur\\n')\n",
    "for x in range(len(nama)):\n",
    "    print(f\"Nama : {nama[x]}\")\n",
    "    print(f\"Umur : {umur[x]}\")\n",
    "    print()\n",
    "else:\n",
    "    print('Done!')"
   ]
  },
  {
   "cell_type": "markdown",
   "metadata": {},
   "source": [
    "## Break and Continue\n",
    "\n",
    "- With the `break` statement we can stop the loop before it has looped through all the items\n",
    "- With the `continue` statement we can stop the current iteration of the loop, and continue with the next"
   ]
  },
  {
   "cell_type": "code",
   "execution_count": 68,
   "metadata": {},
   "outputs": [
    {
     "name": "stdout",
     "output_type": "stream",
     "text": [
      "apple\n",
      "banana\n"
     ]
    }
   ],
   "source": [
    "fruits = [\"apple\", \"banana\", \"cherry\"]\n",
    "for x in fruits:\n",
    "    print(x)\n",
    "    if x == \"banana\":\n",
    "        break"
   ]
  },
  {
   "cell_type": "code",
   "execution_count": 69,
   "metadata": {},
   "outputs": [
    {
     "name": "stdout",
     "output_type": "stream",
     "text": [
      "apple\n",
      "cherry\n"
     ]
    }
   ],
   "source": [
    "fruits = [\"apple\", \"banana\", \"cherry\"]\n",
    "for x in fruits:\n",
    "  if x == \"banana\":\n",
    "    continue\n",
    "  print(x)"
   ]
  }
 ],
 "metadata": {
  "interpreter": {
   "hash": "b9a4ce8203be6451c9e245250f76c9e2ec96546a462dcf810fde9b25f5db38cf"
  },
  "kernelspec": {
   "display_name": "Python 3.9.13 64-bit",
   "language": "python",
   "name": "python3"
  },
  "language_info": {
   "codemirror_mode": {
    "name": "ipython",
    "version": 3
   },
   "file_extension": ".py",
   "mimetype": "text/x-python",
   "name": "python",
   "nbconvert_exporter": "python",
   "pygments_lexer": "ipython3",
   "version": "3.9.13"
  },
  "orig_nbformat": 4
 },
 "nbformat": 4,
 "nbformat_minor": 2
}

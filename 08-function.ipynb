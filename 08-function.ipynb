{
 "cells": [
  {
   "cell_type": "markdown",
   "metadata": {},
   "source": [
    "# Python Function (Method)\n",
    "\n",
    "[Python Functions](https://www.w3schools.com/python/python_functions.asp)\n",
    "\n",
    "- membuat fungsi/method sendiri\n",
    "- just like alias\n",
    "- `def` as define\n",
    "\n",
    "```py\n",
    "def new_function():\n",
    "    code block\n",
    "```"
   ]
  },
  {
   "cell_type": "code",
   "execution_count": 1,
   "metadata": {},
   "outputs": [
    {
     "name": "stdout",
     "output_type": "stream",
     "text": [
      "hello\n"
     ]
    }
   ],
   "source": [
    "def greetings():\n",
    "    print('hello')\n",
    "    \n",
    "greetings()     # <---- call the function"
   ]
  },
  {
   "cell_type": "code",
   "execution_count": 2,
   "metadata": {},
   "outputs": [
    {
     "name": "stdout",
     "output_type": "stream",
     "text": [
      "====================\n",
      "ayaka\n",
      "====================\n",
      "ayaka\n",
      "ayato\n",
      "====================\n",
      "ayaka\n",
      "ayato\n",
      "lumine\n"
     ]
    }
   ],
   "source": [
    "name = []\n",
    "\n",
    "def print_name():\n",
    "    print('='*20)\n",
    "    for x in name:\n",
    "        print(x)\n",
    "\n",
    "name.append('ayaka')\n",
    "print_name()\n",
    "name.append('ayato')\n",
    "print_name()\n",
    "name.append('lumine')\n",
    "print_name()"
   ]
  },
  {
   "cell_type": "markdown",
   "metadata": {},
   "source": [
    "## Arguments (Parameters)"
   ]
  },
  {
   "cell_type": "code",
   "execution_count": 3,
   "metadata": {},
   "outputs": [
    {
     "name": "stdout",
     "output_type": "stream",
     "text": [
      "Kamisato Ayaka\n",
      "Kamisato Ayato\n"
     ]
    }
   ],
   "source": [
    "def my_function(name):\n",
    "  print(f\"Kamisato {name}\")\n",
    "\n",
    "my_function(\"Ayaka\")\n",
    "my_function(\"Ayato\")"
   ]
  },
  {
   "cell_type": "code",
   "execution_count": 4,
   "metadata": {},
   "outputs": [
    {
     "name": "stdout",
     "output_type": "stream",
     "text": [
      "Venti is the archon from Mondo\n",
      "Raiden Shogun is the archon from Inazuma\n"
     ]
    }
   ],
   "source": [
    "def archon(archon, location):\n",
    "    print(f\"{archon} is the archon from {location}\")\n",
    "\n",
    "archon('Venti','Mondo')\n",
    "archon('Raiden Shogun','Inazuma')"
   ]
  },
  {
   "cell_type": "markdown",
   "metadata": {},
   "source": [
    "## Default Parameter Value, Keyword Arguments\n",
    "\n",
    "```py\n",
    "def new_func(argument_1=\"default parameter value\", argument_n=default_parameter_value)\n",
    "    codeblock\n",
    "```"
   ]
  },
  {
   "cell_type": "code",
   "execution_count": 5,
   "metadata": {},
   "outputs": [
    {
     "name": "stdout",
     "output_type": "stream",
     "text": [
      "Zhongli is the archon from Liyue\n",
      "Venti is the archon from Mondo\n",
      "Raiden Shogun is the archon from Inazuma\n",
      "Bennet is the archon from Teyvat\n",
      "Zhongli is the archon from \n"
     ]
    }
   ],
   "source": [
    "def archon(archon='Zhongli', location='Liyue'):\n",
    "    print(f\"{archon} is the archon from {location}\")\n",
    "\n",
    "archon()\n",
    "archon('Venti','Mondo')\n",
    "archon('Raiden Shogun','Inazuma')\n",
    "archon(location='Teyvat',archon='Bennet')\n",
    "archon(location=\"\")"
   ]
  },
  {
   "cell_type": "code",
   "execution_count": 6,
   "metadata": {},
   "outputs": [
    {
     "name": "stdout",
     "output_type": "stream",
     "text": [
      "total dari [5, 8, 0] adalah 13\n"
     ]
    }
   ],
   "source": [
    "def total(satu=0, dua=0, tiga=0):\n",
    "  jumlah = satu + dua + tiga\n",
    "  print(f\"total dari {[satu, dua, tiga]} adalah {jumlah}\")\n",
    "\n",
    "total(5,8)"
   ]
  },
  {
   "cell_type": "markdown",
   "metadata": {},
   "source": [
    "## Argument List (Arbitrary Arguments, *args)\n",
    "\n",
    "If you do not know how many arguments that will be passed into your function, add a `*` before the parameter name in the function definition.\n",
    "\n",
    "This way the function will receive a *tuple* of arguments, and can access the items accordingly:"
   ]
  },
  {
   "cell_type": "code",
   "execution_count": 7,
   "metadata": {},
   "outputs": [
    {
     "name": "stdout",
     "output_type": "stream",
     "text": [
      "<class 'tuple'>\n",
      "(1, 2, 3, 'wasd')\n"
     ]
    }
   ],
   "source": [
    "def func(*args):\n",
    "    print(type(args))\n",
    "    print(args)\n",
    "\n",
    "func(1,2,3,'wasd')"
   ]
  },
  {
   "cell_type": "code",
   "execution_count": 8,
   "metadata": {},
   "outputs": [
    {
     "name": "stdout",
     "output_type": "stream",
     "text": [
      "1\n",
      "2\n",
      "3\n",
      "wasd\n",
      "False\n"
     ]
    }
   ],
   "source": [
    "def fungsibaru(*par):\n",
    "    for x in par:\n",
    "        print(x)\n",
    "\n",
    "fungsibaru(1,2,3,'wasd',False)"
   ]
  },
  {
   "cell_type": "code",
   "execution_count": 9,
   "metadata": {},
   "outputs": [
    {
     "name": "stdout",
     "output_type": "stream",
     "text": [
      "sum dari (2, 4, 12, 80) adalah 98\n"
     ]
    }
   ],
   "source": [
    "# program sederhana\n",
    "\n",
    "def hitung(*angka):\n",
    "    total = 0\n",
    "    for x in angka:\n",
    "        total += x\n",
    "    print(f'sum dari {angka} adalah {total}')\n",
    "\n",
    "hitung(2,4,12,80)"
   ]
  },
  {
   "cell_type": "markdown",
   "metadata": {},
   "source": [
    "## Return Values"
   ]
  },
  {
   "cell_type": "code",
   "execution_count": 10,
   "metadata": {},
   "outputs": [
    {
     "name": "stdout",
     "output_type": "stream",
     "text": [
      "average dari (3, 4, 7, 8) adalah 5.5\n",
      "(3, 4, 7, 8)\n",
      "5.5\n"
     ]
    }
   ],
   "source": [
    "# program sederhana\n",
    "\n",
    "def rata2(*angka):\n",
    "    jumlah = 0\n",
    "    for x in angka:\n",
    "        jumlah += x\n",
    "    else:\n",
    "        hasil = jumlah / len(angka)\n",
    "    print(f'average dari {angka} adalah {hasil}')\n",
    "\n",
    "    return (angka, hasil)     # <----- return <----- mengembalikan nilai\n",
    "\n",
    "angka, hasil = rata2(3,4,7,8)\n",
    "\n",
    "print(angka)\n",
    "print(hasil)"
   ]
  },
  {
   "cell_type": "code",
   "execution_count": 11,
   "metadata": {},
   "outputs": [
    {
     "name": "stdout",
     "output_type": "stream",
     "text": [
      "rata-rata dari (3, 4, 7, 8) adalah 5.5\n",
      "rata-rata dari (70, 80, 90, 100) adalah 85.0\n"
     ]
    }
   ],
   "source": [
    "# program sederhana\n",
    "\n",
    "def rata2(*angka):\n",
    "    jumlah = 0\n",
    "    for x in angka:\n",
    "        jumlah += x\n",
    "    else:\n",
    "        hasil = jumlah / len(angka)\n",
    "    return (angka, hasil)     # <----- return <----- mengembalikan nilai\n",
    "\n",
    "angka, hasil = rata2(3,4,7,8)\n",
    "print(f'rata-rata dari {angka} adalah {hasil}')\n",
    "\n",
    "angka, hasil = rata2(70,80,90,100)\n",
    "print(f'rata-rata dari {angka} adalah {hasil}')"
   ]
  }
 ],
 "metadata": {
  "interpreter": {
   "hash": "b9a4ce8203be6451c9e245250f76c9e2ec96546a462dcf810fde9b25f5db38cf"
  },
  "kernelspec": {
   "display_name": "Python 3.9.13 64-bit",
   "language": "python",
   "name": "python3"
  },
  "language_info": {
   "codemirror_mode": {
    "name": "ipython",
    "version": 3
   },
   "file_extension": ".py",
   "mimetype": "text/x-python",
   "name": "python",
   "nbconvert_exporter": "python",
   "pygments_lexer": "ipython3",
   "version": "3.9.13"
  },
  "orig_nbformat": 4
 },
 "nbformat": 4,
 "nbformat_minor": 2
}
